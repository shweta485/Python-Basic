{
 "cells": [
  {
   "cell_type": "code",
   "execution_count": 1,
   "id": "4701ccd4",
   "metadata": {},
   "outputs": [
    {
     "name": "stdout",
     "output_type": "stream",
     "text": [
      "hello world\n"
     ]
    }
   ],
   "source": [
    "print(\"hello world\")"
   ]
  },
  {
   "cell_type": "code",
   "execution_count": null,
   "id": "ea4e76c7",
   "metadata": {},
   "outputs": [],
   "source": [
    "int,float,str"
   ]
  },
  {
   "cell_type": "markdown",
   "id": "4b2fe739",
   "metadata": {},
   "source": [
    "# operator"
   ]
  },
  {
   "cell_type": "raw",
   "id": "47965def",
   "metadata": {},
   "source": [
    "variable\n",
    "constant\n",
    "keywords\n",
    "comments\n"
   ]
  },
  {
   "cell_type": "code",
   "execution_count": 2,
   "id": "afd8c4fc",
   "metadata": {},
   "outputs": [],
   "source": [
    "a = \"python\"\n",
    "b = 15\n",
    "c = 15.5423"
   ]
  },
  {
   "cell_type": "code",
   "execution_count": 3,
   "id": "6faac30b",
   "metadata": {},
   "outputs": [
    {
     "data": {
      "text/plain": [
       "'python'"
      ]
     },
     "execution_count": 3,
     "metadata": {},
     "output_type": "execute_result"
    }
   ],
   "source": [
    "a"
   ]
  },
  {
   "cell_type": "code",
   "execution_count": 4,
   "id": "fe935301",
   "metadata": {},
   "outputs": [
    {
     "name": "stdout",
     "output_type": "stream",
     "text": [
      "python\n"
     ]
    }
   ],
   "source": [
    "print(a)"
   ]
  },
  {
   "cell_type": "code",
   "execution_count": null,
   "id": "93010992",
   "metadata": {},
   "outputs": [],
   "source": [
    "a-z , A-z can not use any no.nor any symbol(-)"
   ]
  },
  {
   "cell_type": "code",
   "execution_count": 5,
   "id": "a373b194",
   "metadata": {},
   "outputs": [],
   "source": [
    "first_str = \"python\"\n",
    "second_str = \"is easy\""
   ]
  },
  {
   "cell_type": "code",
   "execution_count": null,
   "id": "2fcf5608",
   "metadata": {},
   "outputs": [],
   "source": [
    "# first_str = \"python\" ctrl+/ is used to comment line"
   ]
  },
  {
   "cell_type": "code",
   "execution_count": 6,
   "id": "ec1ee776",
   "metadata": {},
   "outputs": [],
   "source": [
    "gravity = 9.8\n",
    "pi = 3.14\n",
    "epilon = 2.74"
   ]
  },
  {
   "cell_type": "code",
   "execution_count": 7,
   "id": "825c56f9",
   "metadata": {},
   "outputs": [
    {
     "data": {
      "text/plain": [
       "str"
      ]
     },
     "execution_count": 7,
     "metadata": {},
     "output_type": "execute_result"
    }
   ],
   "source": [
    "type(a)"
   ]
  },
  {
   "cell_type": "code",
   "execution_count": null,
   "id": "ddf31b88",
   "metadata": {},
   "outputs": [],
   "source": [
    "if else for try expect def break pass continue class -keywords"
   ]
  },
  {
   "cell_type": "raw",
   "id": "4a47b3ff",
   "metadata": {},
   "source": [
    "1.mathematical / Arthmatic\n",
    "2.Relational / comparision\n",
    "3.logical\n",
    "4.Assignment\n",
    "5.Bitwise\n",
    "6.Membership\n",
    "7.identity\n"
   ]
  },
  {
   "cell_type": "markdown",
   "id": "247ff523",
   "metadata": {},
   "source": [
    "1] +,-,*,/,//,%"
   ]
  },
  {
   "cell_type": "code",
   "execution_count": 8,
   "id": "a6142cf9",
   "metadata": {},
   "outputs": [],
   "source": [
    "a = 5\n",
    "b = 6"
   ]
  },
  {
   "cell_type": "code",
   "execution_count": 9,
   "id": "0e2e7a34",
   "metadata": {},
   "outputs": [
    {
     "data": {
      "text/plain": [
       "11"
      ]
     },
     "execution_count": 9,
     "metadata": {},
     "output_type": "execute_result"
    }
   ],
   "source": [
    "a+b"
   ]
  },
  {
   "cell_type": "code",
   "execution_count": 10,
   "id": "1a5c5a20",
   "metadata": {},
   "outputs": [
    {
     "data": {
      "text/plain": [
       "0"
      ]
     },
     "execution_count": 10,
     "metadata": {},
     "output_type": "execute_result"
    }
   ],
   "source": [
    "a//b"
   ]
  },
  {
   "cell_type": "code",
   "execution_count": 11,
   "id": "36440028",
   "metadata": {},
   "outputs": [
    {
     "data": {
      "text/plain": [
       "5"
      ]
     },
     "execution_count": 11,
     "metadata": {},
     "output_type": "execute_result"
    }
   ],
   "source": [
    "a%b"
   ]
  },
  {
   "cell_type": "code",
   "execution_count": 12,
   "id": "5da7c83f",
   "metadata": {},
   "outputs": [
    {
     "data": {
      "text/plain": [
       "-1"
      ]
     },
     "execution_count": 12,
     "metadata": {},
     "output_type": "execute_result"
    }
   ],
   "source": [
    "a-b"
   ]
  },
  {
   "cell_type": "code",
   "execution_count": 13,
   "id": "4799e881",
   "metadata": {},
   "outputs": [
    {
     "data": {
      "text/plain": [
       "30"
      ]
     },
     "execution_count": 13,
     "metadata": {},
     "output_type": "execute_result"
    }
   ],
   "source": [
    "a*b"
   ]
  },
  {
   "cell_type": "raw",
   "id": "7a137e74",
   "metadata": {},
   "source": [
    "2] Relational"
   ]
  },
  {
   "cell_type": "markdown",
   "id": "851062b1",
   "metadata": {},
   "source": [
    ">,>=,<,<=,==,!="
   ]
  },
  {
   "cell_type": "code",
   "execution_count": 14,
   "id": "fdbc7156",
   "metadata": {},
   "outputs": [
    {
     "data": {
      "text/plain": [
       "True"
      ]
     },
     "execution_count": 14,
     "metadata": {},
     "output_type": "execute_result"
    }
   ],
   "source": [
    "10>1"
   ]
  },
  {
   "cell_type": "code",
   "execution_count": 15,
   "id": "add3d0c7",
   "metadata": {},
   "outputs": [
    {
     "data": {
      "text/plain": [
       "True"
      ]
     },
     "execution_count": 15,
     "metadata": {},
     "output_type": "execute_result"
    }
   ],
   "source": [
    "11>=9"
   ]
  },
  {
   "cell_type": "code",
   "execution_count": 16,
   "id": "82553fa1",
   "metadata": {},
   "outputs": [
    {
     "data": {
      "text/plain": [
       "True"
      ]
     },
     "execution_count": 16,
     "metadata": {},
     "output_type": "execute_result"
    }
   ],
   "source": [
    "5!=8"
   ]
  },
  {
   "cell_type": "code",
   "execution_count": 17,
   "id": "eae68425",
   "metadata": {},
   "outputs": [
    {
     "data": {
      "text/plain": [
       "False"
      ]
     },
     "execution_count": 17,
     "metadata": {},
     "output_type": "execute_result"
    }
   ],
   "source": [
    "4==2"
   ]
  },
  {
   "cell_type": "raw",
   "id": "e3f2bd4b",
   "metadata": {},
   "source": [
    "3] Logical"
   ]
  },
  {
   "cell_type": "code",
   "execution_count": 18,
   "id": "ac79e3ed",
   "metadata": {},
   "outputs": [],
   "source": [
    "a = True\n",
    "b = True"
   ]
  },
  {
   "cell_type": "code",
   "execution_count": 19,
   "id": "2a71904b",
   "metadata": {},
   "outputs": [
    {
     "data": {
      "text/plain": [
       "True"
      ]
     },
     "execution_count": 19,
     "metadata": {},
     "output_type": "execute_result"
    }
   ],
   "source": [
    "a & b"
   ]
  },
  {
   "cell_type": "code",
   "execution_count": 20,
   "id": "a97bba18",
   "metadata": {},
   "outputs": [
    {
     "data": {
      "text/plain": [
       "True"
      ]
     },
     "execution_count": 20,
     "metadata": {},
     "output_type": "execute_result"
    }
   ],
   "source": [
    "a or b"
   ]
  },
  {
   "cell_type": "code",
   "execution_count": 21,
   "id": "686f6c0f",
   "metadata": {},
   "outputs": [
    {
     "data": {
      "text/plain": [
       "False"
      ]
     },
     "execution_count": 21,
     "metadata": {},
     "output_type": "execute_result"
    }
   ],
   "source": [
    "not a"
   ]
  },
  {
   "cell_type": "raw",
   "id": "2e6927d7",
   "metadata": {},
   "source": [
    "4] Assignment "
   ]
  },
  {
   "cell_type": "markdown",
   "id": "d3a796e1",
   "metadata": {},
   "source": [
    "=, +=, -=, *=, /="
   ]
  },
  {
   "cell_type": "code",
   "execution_count": 28,
   "id": "355b4f75",
   "metadata": {},
   "outputs": [
    {
     "data": {
      "text/plain": [
       "2"
      ]
     },
     "execution_count": 28,
     "metadata": {},
     "output_type": "execute_result"
    }
   ],
   "source": [
    "a = 1\n",
    "a = a + 1\n",
    "a"
   ]
  },
  {
   "cell_type": "code",
   "execution_count": 32,
   "id": "02b8a007",
   "metadata": {},
   "outputs": [
    {
     "data": {
      "text/plain": [
       "6"
      ]
     },
     "execution_count": 32,
     "metadata": {},
     "output_type": "execute_result"
    }
   ],
   "source": [
    "a = a+1\n",
    "a"
   ]
  },
  {
   "cell_type": "code",
   "execution_count": 33,
   "id": "60ea3086",
   "metadata": {},
   "outputs": [
    {
     "data": {
      "text/plain": [
       "1"
      ]
     },
     "execution_count": 33,
     "metadata": {},
     "output_type": "execute_result"
    }
   ],
   "source": [
    "a =+ 1\n",
    "a"
   ]
  },
  {
   "cell_type": "code",
   "execution_count": 34,
   "id": "85c6d896",
   "metadata": {},
   "outputs": [
    {
     "data": {
      "text/plain": [
       "1"
      ]
     },
     "execution_count": 34,
     "metadata": {},
     "output_type": "execute_result"
    }
   ],
   "source": [
    "a*=1\n",
    "a"
   ]
  },
  {
   "cell_type": "code",
   "execution_count": 35,
   "id": "847e6886",
   "metadata": {},
   "outputs": [
    {
     "data": {
      "text/plain": [
       "0"
      ]
     },
     "execution_count": 35,
     "metadata": {},
     "output_type": "execute_result"
    }
   ],
   "source": [
    "a-=1\n",
    "a"
   ]
  },
  {
   "cell_type": "raw",
   "id": "1648749f",
   "metadata": {},
   "source": [
    "5] Bitwise"
   ]
  },
  {
   "cell_type": "code",
   "execution_count": 36,
   "id": "8bff8861",
   "metadata": {},
   "outputs": [
    {
     "data": {
      "text/plain": [
       "48"
      ]
     },
     "execution_count": 36,
     "metadata": {},
     "output_type": "execute_result"
    }
   ],
   "source": [
    "a=12\n",
    "a<<2"
   ]
  },
  {
   "cell_type": "code",
   "execution_count": 37,
   "id": "cd43466c",
   "metadata": {},
   "outputs": [
    {
     "data": {
      "text/plain": [
       "3"
      ]
     },
     "execution_count": 37,
     "metadata": {},
     "output_type": "execute_result"
    }
   ],
   "source": [
    "a>>2"
   ]
  },
  {
   "cell_type": "markdown",
   "id": "a8cf203a",
   "metadata": {},
   "source": [
    "6] membership"
   ]
  },
  {
   "cell_type": "code",
   "execution_count": 38,
   "id": "01c05ae6",
   "metadata": {},
   "outputs": [
    {
     "data": {
      "text/plain": [
       "True"
      ]
     },
     "execution_count": 38,
     "metadata": {},
     "output_type": "execute_result"
    }
   ],
   "source": [
    "s = \"learning python\"\n",
    "\"nin\" in s"
   ]
  },
  {
   "cell_type": "code",
   "execution_count": 39,
   "id": "0c8d5950",
   "metadata": {},
   "outputs": [
    {
     "data": {
      "text/plain": [
       "True"
      ]
     },
     "execution_count": 39,
     "metadata": {},
     "output_type": "execute_result"
    }
   ],
   "source": [
    "\"python\" in s"
   ]
  },
  {
   "cell_type": "code",
   "execution_count": 40,
   "id": "1e0eb10e",
   "metadata": {},
   "outputs": [
    {
     "ename": "NameError",
     "evalue": "name 'j' is not defined",
     "output_type": "error",
     "traceback": [
      "\u001b[1;31m---------------------------------------------------------------------------\u001b[0m",
      "\u001b[1;31mNameError\u001b[0m                                 Traceback (most recent call last)",
      "Input \u001b[1;32mIn [40]\u001b[0m, in \u001b[0;36m<cell line: 1>\u001b[1;34m()\u001b[0m\n\u001b[1;32m----> 1\u001b[0m \u001b[38;5;124m\"\u001b[39m\u001b[38;5;124mjava\u001b[39m\u001b[38;5;124m\"\u001b[39m \u001b[38;5;129;01mnot\u001b[39;00m \u001b[38;5;129;01min\u001b[39;00m \u001b[43mj\u001b[49m\n",
      "\u001b[1;31mNameError\u001b[0m: name 'j' is not defined"
     ]
    }
   ],
   "source": [
    "\"java\" not in j"
   ]
  },
  {
   "cell_type": "code",
   "execution_count": 41,
   "id": "5cafaaa1",
   "metadata": {},
   "outputs": [
    {
     "data": {
      "text/plain": [
       "True"
      ]
     },
     "execution_count": 41,
     "metadata": {},
     "output_type": "execute_result"
    }
   ],
   "source": [
    "\"java\" not in s"
   ]
  },
  {
   "cell_type": "code",
   "execution_count": 42,
   "id": "dd244a9b",
   "metadata": {},
   "outputs": [],
   "source": [
    "s=\"abc\"\n",
    "s1=\"abc\""
   ]
  },
  {
   "cell_type": "code",
   "execution_count": 43,
   "id": "85763fba",
   "metadata": {},
   "outputs": [
    {
     "data": {
      "text/plain": [
       "True"
      ]
     },
     "execution_count": 43,
     "metadata": {},
     "output_type": "execute_result"
    }
   ],
   "source": [
    "s is s1"
   ]
  },
  {
   "cell_type": "code",
   "execution_count": 44,
   "id": "9c344152",
   "metadata": {},
   "outputs": [
    {
     "data": {
      "text/plain": [
       "3"
      ]
     },
     "execution_count": 44,
     "metadata": {},
     "output_type": "execute_result"
    }
   ],
   "source": [
    "len(s)"
   ]
  },
  {
   "cell_type": "code",
   "execution_count": 45,
   "id": "da8a33b7",
   "metadata": {},
   "outputs": [],
   "source": [
    "a=\"1414572\""
   ]
  },
  {
   "cell_type": "code",
   "execution_count": 46,
   "id": "ccf0feb9",
   "metadata": {},
   "outputs": [
    {
     "data": {
      "text/plain": [
       "str"
      ]
     },
     "execution_count": 46,
     "metadata": {},
     "output_type": "execute_result"
    }
   ],
   "source": [
    "type(a)"
   ]
  },
  {
   "cell_type": "code",
   "execution_count": 47,
   "id": "0fe0c798",
   "metadata": {},
   "outputs": [
    {
     "data": {
      "text/plain": [
       "1414572"
      ]
     },
     "execution_count": 47,
     "metadata": {},
     "output_type": "execute_result"
    }
   ],
   "source": [
    "int(a)"
   ]
  },
  {
   "cell_type": "code",
   "execution_count": 48,
   "id": "dea177b2",
   "metadata": {},
   "outputs": [
    {
     "data": {
      "text/plain": [
       "int"
      ]
     },
     "execution_count": 48,
     "metadata": {},
     "output_type": "execute_result"
    }
   ],
   "source": [
    "type(int(a))"
   ]
  },
  {
   "cell_type": "code",
   "execution_count": 49,
   "id": "ee0058cd",
   "metadata": {},
   "outputs": [],
   "source": [
    "a=455816\n",
    "a1=str(a)\n"
   ]
  },
  {
   "cell_type": "code",
   "execution_count": 50,
   "id": "5bd77310",
   "metadata": {},
   "outputs": [
    {
     "data": {
      "text/plain": [
       "6"
      ]
     },
     "execution_count": 50,
     "metadata": {},
     "output_type": "execute_result"
    }
   ],
   "source": [
    "len(a1)"
   ]
  },
  {
   "cell_type": "markdown",
   "id": "e185dc5e",
   "metadata": {},
   "source": [
    "type(a),int(a),str(a),ltyen(a)- python defalt funtion"
   ]
  },
  {
   "cell_type": "code",
   "execution_count": 51,
   "id": "b86050f7",
   "metadata": {},
   "outputs": [
    {
     "ename": "AttributeError",
     "evalue": "'str' object has no attribute 'remove'",
     "output_type": "error",
     "traceback": [
      "\u001b[1;31m---------------------------------------------------------------------------\u001b[0m",
      "\u001b[1;31mAttributeError\u001b[0m                            Traceback (most recent call last)",
      "Input \u001b[1;32mIn [51]\u001b[0m, in \u001b[0;36m<cell line: 2>\u001b[1;34m()\u001b[0m\n\u001b[0;32m      1\u001b[0m s\u001b[38;5;241m=\u001b[39m\u001b[38;5;124m\"\u001b[39m\u001b[38;5;124msamir\u001b[39m\u001b[38;5;124m\"\u001b[39m\n\u001b[1;32m----> 2\u001b[0m \u001b[43ms\u001b[49m\u001b[38;5;241;43m.\u001b[39;49m\u001b[43mremove\u001b[49m()\n",
      "\u001b[1;31mAttributeError\u001b[0m: 'str' object has no attribute 'remove'"
     ]
    }
   ],
   "source": [
    "s=\"samir\"\n",
    "s.remove()"
   ]
  },
  {
   "cell_type": "code",
   "execution_count": 52,
   "id": "74c4dc1d",
   "metadata": {},
   "outputs": [
    {
     "data": {
      "text/plain": [
       "''"
      ]
     },
     "execution_count": 52,
     "metadata": {},
     "output_type": "execute_result"
    }
   ],
   "source": [
    "str()"
   ]
  },
  {
   "cell_type": "code",
   "execution_count": null,
   "id": "78e1f3e0",
   "metadata": {},
   "outputs": [],
   "source": []
  }
 ],
 "metadata": {
  "kernelspec": {
   "display_name": "Python 3 (ipykernel)",
   "language": "python",
   "name": "python3"
  },
  "language_info": {
   "codemirror_mode": {
    "name": "ipython",
    "version": 3
   },
   "file_extension": ".py",
   "mimetype": "text/x-python",
   "name": "python",
   "nbconvert_exporter": "python",
   "pygments_lexer": "ipython3",
   "version": "3.9.12"
  }
 },
 "nbformat": 4,
 "nbformat_minor": 5
}
