{
 "cells": [
  {
   "cell_type": "code",
   "execution_count": 1,
   "id": "4251efe9",
   "metadata": {},
   "outputs": [],
   "source": [
    "l = [10,20,30,40,50,60,70,80]"
   ]
  },
  {
   "cell_type": "code",
   "execution_count": 6,
   "id": "a7b7ad74",
   "metadata": {},
   "outputs": [
    {
     "name": "stdout",
     "output_type": "stream",
     "text": [
      "10 *20 *30 *40 *50 *60 *70 *80 *"
     ]
    }
   ],
   "source": [
    "for items in l:\n",
    "    print(items,end=' *')"
   ]
  },
  {
   "cell_type": "code",
   "execution_count": 7,
   "id": "5dda8b57",
   "metadata": {},
   "outputs": [
    {
     "name": "stdout",
     "output_type": "stream",
     "text": [
      "10\n",
      "20\n",
      "30\n",
      "40\n",
      "50\n",
      "60\n",
      "70\n",
      "80\n"
     ]
    }
   ],
   "source": [
    "for i in l:\n",
    "    print(i)"
   ]
  },
  {
   "cell_type": "code",
   "execution_count": 8,
   "id": "a6b59612",
   "metadata": {},
   "outputs": [
    {
     "name": "stdout",
     "output_type": "stream",
     "text": [
      "10\n",
      "20\n",
      "30\n",
      "40\n",
      "50\n"
     ]
    }
   ],
   "source": [
    "for i in l:\n",
    "    print(i)\n",
    "    if i == 50:\n",
    "        break"
   ]
  },
  {
   "cell_type": "code",
   "execution_count": 10,
   "id": "a84b9615",
   "metadata": {},
   "outputs": [
    {
     "name": "stdout",
     "output_type": "stream",
     "text": [
      "10\n",
      "20\n",
      "30\n",
      "40\n",
      "50\n",
      "60\n",
      "70\n",
      "80\n",
      "this will only execute once for loop is completed\n"
     ]
    }
   ],
   "source": [
    "for i in l:\n",
    "    print(i)\n",
    "    if i == 90:\n",
    "        break\n",
    "else:\n",
    "    print(\"this will only execute once for loop is completed\")"
   ]
  },
  {
   "cell_type": "code",
   "execution_count": 11,
   "id": "19c1b014",
   "metadata": {},
   "outputs": [
    {
     "name": "stdout",
     "output_type": "stream",
     "text": [
      "1\n",
      "2\n",
      "3\n",
      "4\n",
      "5\n",
      "6\n"
     ]
    }
   ],
   "source": [
    "s = '123456'\n",
    "for i in s:\n",
    "    print(i)"
   ]
  },
  {
   "cell_type": "code",
   "execution_count": 12,
   "id": "51ae46d8",
   "metadata": {},
   "outputs": [
    {
     "name": "stdout",
     "output_type": "stream",
     "text": [
      "p\n",
      "y\n",
      "t\n",
      "h\n",
      "o\n",
      "n\n"
     ]
    }
   ],
   "source": [
    "s = 'python'\n",
    "for i in s:\n",
    "    print(i)"
   ]
  },
  {
   "cell_type": "code",
   "execution_count": 13,
   "id": "468a7270",
   "metadata": {},
   "outputs": [],
   "source": [
    "d = {\"key\":\"value\",\"name\":\"abc\",\"contact\":123456}"
   ]
  },
  {
   "cell_type": "code",
   "execution_count": 14,
   "id": "5fe753c2",
   "metadata": {},
   "outputs": [
    {
     "data": {
      "text/plain": [
       "'abc'"
      ]
     },
     "execution_count": 14,
     "metadata": {},
     "output_type": "execute_result"
    }
   ],
   "source": [
    "d['name']"
   ]
  },
  {
   "cell_type": "code",
   "execution_count": 15,
   "id": "7ff0f663",
   "metadata": {},
   "outputs": [
    {
     "name": "stdout",
     "output_type": "stream",
     "text": [
      "key = value\n",
      "name = abc\n",
      "contact = 123456\n"
     ]
    }
   ],
   "source": [
    "for i in d:\n",
    "    print(i,\"=\",d[i])"
   ]
  },
  {
   "cell_type": "markdown",
   "id": "9a98129e",
   "metadata": {},
   "source": [
    "# range function (start:end:step)"
   ]
  },
  {
   "cell_type": "code",
   "execution_count": 17,
   "id": "9e500140",
   "metadata": {},
   "outputs": [
    {
     "data": {
      "text/plain": [
       "range(1, 11)"
      ]
     },
     "execution_count": 17,
     "metadata": {},
     "output_type": "execute_result"
    }
   ],
   "source": [
    "range(1,11)"
   ]
  },
  {
   "cell_type": "code",
   "execution_count": 19,
   "id": "77e6717f",
   "metadata": {},
   "outputs": [
    {
     "name": "stdout",
     "output_type": "stream",
     "text": [
      "1 2 3 4 5 6 7 8 9 10 "
     ]
    }
   ],
   "source": [
    "for i in range(1,11):\n",
    "    print(i,end=\" \")"
   ]
  },
  {
   "cell_type": "code",
   "execution_count": 20,
   "id": "2930f45e",
   "metadata": {},
   "outputs": [
    {
     "name": "stdout",
     "output_type": "stream",
     "text": [
      "0 1 2 3 4 5 6 7 8 9 "
     ]
    }
   ],
   "source": [
    "for i in range(10):\n",
    "    print(i,end=\" \")"
   ]
  },
  {
   "cell_type": "code",
   "execution_count": 21,
   "id": "a6521b52",
   "metadata": {},
   "outputs": [
    {
     "name": "stdout",
     "output_type": "stream",
     "text": [
      "1 3 5 7 9 11 13 15 17 19 21 23 "
     ]
    }
   ],
   "source": [
    "for i in range(1,25,2):\n",
    "    print(i,end=\" \")"
   ]
  },
  {
   "cell_type": "code",
   "execution_count": 27,
   "id": "ec175f8a",
   "metadata": {},
   "outputs": [],
   "source": [
    "l = [10,20,30,40,50,60,70,80,90,20]"
   ]
  },
  {
   "cell_type": "code",
   "execution_count": 23,
   "id": "6f714c82",
   "metadata": {},
   "outputs": [
    {
     "data": {
      "text/plain": [
       "30"
      ]
     },
     "execution_count": 23,
     "metadata": {},
     "output_type": "execute_result"
    }
   ],
   "source": [
    "l[2]"
   ]
  },
  {
   "cell_type": "code",
   "execution_count": 24,
   "id": "54d84be6",
   "metadata": {},
   "outputs": [
    {
     "data": {
      "text/plain": [
       "8"
      ]
     },
     "execution_count": 24,
     "metadata": {},
     "output_type": "execute_result"
    }
   ],
   "source": [
    "len(l)"
   ]
  },
  {
   "cell_type": "code",
   "execution_count": 25,
   "id": "cbc824f1",
   "metadata": {},
   "outputs": [
    {
     "name": "stdout",
     "output_type": "stream",
     "text": [
      "0 = 10\n",
      "1 = 20\n",
      "2 = 30\n",
      "3 = 40\n",
      "4 = 50\n",
      "5 = 60\n",
      "6 = 70\n",
      "7 = 80\n"
     ]
    }
   ],
   "source": [
    "for i in range(8):\n",
    "    print(i,\"=\",l[i])"
   ]
  },
  {
   "cell_type": "code",
   "execution_count": 28,
   "id": "0a42a53e",
   "metadata": {},
   "outputs": [
    {
     "name": "stdout",
     "output_type": "stream",
     "text": [
      "0 = 10\n",
      "1 = 20\n",
      "2 = 30\n",
      "3 = 40\n",
      "4 = 50\n",
      "5 = 60\n",
      "6 = 70\n",
      "7 = 80\n",
      "8 = 90\n",
      "9 = 20\n"
     ]
    }
   ],
   "source": [
    "for i in range(len(l)):\n",
    "    print(i,\"=\",l[i])"
   ]
  },
  {
   "cell_type": "code",
   "execution_count": 29,
   "id": "9efccaa1",
   "metadata": {},
   "outputs": [],
   "source": [
    "s = \"learning data science\""
   ]
  },
  {
   "cell_type": "code",
   "execution_count": 32,
   "id": "5c9f1941",
   "metadata": {},
   "outputs": [
    {
     "name": "stdout",
     "output_type": "stream",
     "text": [
      "learning data science [0] 0\n",
      "learning data science [1] 1\n",
      "learning data science [2] 2\n",
      "learning data science [3] 3\n",
      "learning data science [4] 4\n",
      "learning data science [5] 5\n",
      "learning data science [6] 6\n",
      "learning data science [7] 7\n",
      "learning data science [8] 8\n",
      "learning data science [9] 9\n",
      "learning data science [10] 10\n",
      "learning data science [11] 11\n",
      "learning data science [12] 12\n",
      "learning data science [13] 13\n",
      "learning data science [14] 14\n",
      "learning data science [15] 15\n",
      "learning data science [16] 16\n",
      "learning data science [17] 17\n",
      "learning data science [18] 18\n",
      "learning data science [19] 19\n",
      "learning data science [20] 20\n"
     ]
    }
   ],
   "source": [
    "for i in range(len(s)):\n",
    "    print(s,[i],i)"
   ]
  },
  {
   "cell_type": "code",
   "execution_count": 33,
   "id": "b0b2bd79",
   "metadata": {},
   "outputs": [
    {
     "name": "stdout",
     "output_type": "stream",
     "text": [
      "Enter a number for multiplications:4\n",
      "4 * 1 = 4\n",
      "4 * 2 = 8\n",
      "4 * 3 = 12\n",
      "4 * 4 = 16\n",
      "4 * 5 = 20\n",
      "4 * 6 = 24\n",
      "4 * 7 = 28\n",
      "4 * 8 = 32\n",
      "4 * 9 = 36\n",
      "4 * 10 = 40\n"
     ]
    }
   ],
   "source": [
    "s = int(input(\"Enter a number for multiplications:\"))\n",
    "for i in range (1,11):\n",
    "    print(s,\"*\",i,\"=\",i*s)"
   ]
  },
  {
   "cell_type": "code",
   "execution_count": 34,
   "id": "7c846d34",
   "metadata": {},
   "outputs": [],
   "source": [
    "s = \"aaaabbbbcccccdddd\""
   ]
  },
  {
   "cell_type": "code",
   "execution_count": 35,
   "id": "3ac96ca2",
   "metadata": {},
   "outputs": [
    {
     "name": "stdout",
     "output_type": "stream",
     "text": [
      "a : 4\n",
      "a : 4\n",
      "a : 4\n",
      "a : 4\n",
      "b : 4\n",
      "b : 4\n",
      "b : 4\n",
      "b : 4\n",
      "c : 5\n",
      "c : 5\n",
      "c : 5\n",
      "c : 5\n",
      "c : 5\n",
      "d : 4\n",
      "d : 4\n",
      "d : 4\n",
      "d : 4\n"
     ]
    }
   ],
   "source": [
    "for i in s:\n",
    "    print(i,\":\",s.count(i))"
   ]
  },
  {
   "cell_type": "code",
   "execution_count": 36,
   "id": "139fc24c",
   "metadata": {},
   "outputs": [],
   "source": [
    "s = \"aaaabbbbcccccdddd\""
   ]
  },
  {
   "cell_type": "code",
   "execution_count": 37,
   "id": "33982731",
   "metadata": {},
   "outputs": [
    {
     "data": {
      "text/plain": [
       "{'a', 'b', 'c', 'd'}"
      ]
     },
     "execution_count": 37,
     "metadata": {},
     "output_type": "execute_result"
    }
   ],
   "source": [
    "set(s)"
   ]
  },
  {
   "cell_type": "code",
   "execution_count": 38,
   "id": "389917c1",
   "metadata": {},
   "outputs": [
    {
     "name": "stdout",
     "output_type": "stream",
     "text": [
      "a : 4\n",
      "d : 4\n",
      "c : 5\n",
      "b : 4\n"
     ]
    }
   ],
   "source": [
    "for i in set(s):\n",
    "    print(i,\":\",s.count(i))"
   ]
  },
  {
   "cell_type": "code",
   "execution_count": 39,
   "id": "ec36f1fb",
   "metadata": {},
   "outputs": [],
   "source": [
    "s = \"SamPythonData\""
   ]
  },
  {
   "cell_type": "code",
   "execution_count": 41,
   "id": "98888fe2",
   "metadata": {},
   "outputs": [
    {
     "name": "stdout",
     "output_type": "stream",
     "text": [
      "a\n",
      "m\n",
      "y\n",
      "t\n",
      "h\n",
      "o\n",
      "n\n",
      "a\n",
      "t\n",
      "a\n"
     ]
    }
   ],
   "source": [
    "for i in s:\n",
    "    if i.islower()==True:\n",
    "        print(i)"
   ]
  },
  {
   "cell_type": "code",
   "execution_count": null,
   "id": "c8cee3ff",
   "metadata": {},
   "outputs": [],
   "source": []
  }
 ],
 "metadata": {
  "kernelspec": {
   "display_name": "Python 3 (ipykernel)",
   "language": "python",
   "name": "python3"
  },
  "language_info": {
   "codemirror_mode": {
    "name": "ipython",
    "version": 3
   },
   "file_extension": ".py",
   "mimetype": "text/x-python",
   "name": "python",
   "nbconvert_exporter": "python",
   "pygments_lexer": "ipython3",
   "version": "3.9.12"
  }
 },
 "nbformat": 4,
 "nbformat_minor": 5
}
