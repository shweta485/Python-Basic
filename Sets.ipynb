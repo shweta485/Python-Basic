{
 "cells": [
  {
   "cell_type": "code",
   "execution_count": 3,
   "id": "67dec7c1",
   "metadata": {},
   "outputs": [],
   "source": [
    "s = {10,20,30,40,20,30,1.5,\"set\"}"
   ]
  },
  {
   "cell_type": "code",
   "execution_count": 4,
   "id": "61d9f658",
   "metadata": {},
   "outputs": [
    {
     "data": {
      "text/plain": [
       "{1.5, 10, 20, 30, 40, 'set'}"
      ]
     },
     "execution_count": 4,
     "metadata": {},
     "output_type": "execute_result"
    }
   ],
   "source": [
    "s"
   ]
  },
  {
   "cell_type": "code",
   "execution_count": 5,
   "id": "75188d0d",
   "metadata": {},
   "outputs": [
    {
     "ename": "TypeError",
     "evalue": "'set' object is not subscriptable",
     "output_type": "error",
     "traceback": [
      "\u001b[1;31m---------------------------------------------------------------------------\u001b[0m",
      "\u001b[1;31mTypeError\u001b[0m                                 Traceback (most recent call last)",
      "Input \u001b[1;32mIn [5]\u001b[0m, in \u001b[0;36m<cell line: 1>\u001b[1;34m()\u001b[0m\n\u001b[1;32m----> 1\u001b[0m \u001b[43ms\u001b[49m\u001b[43m[\u001b[49m\u001b[38;5;241;43m4\u001b[39;49m\u001b[43m]\u001b[49m\n",
      "\u001b[1;31mTypeError\u001b[0m: 'set' object is not subscriptable"
     ]
    }
   ],
   "source": [
    "s[4]"
   ]
  },
  {
   "cell_type": "code",
   "execution_count": 8,
   "id": "efba75f6",
   "metadata": {},
   "outputs": [],
   "source": [
    "s.add(350)"
   ]
  },
  {
   "cell_type": "code",
   "execution_count": 9,
   "id": "39ac9f6d",
   "metadata": {},
   "outputs": [
    {
     "data": {
      "text/plain": [
       "{1.5, 10, 20, 30, 350, 40, 400, 'set'}"
      ]
     },
     "execution_count": 9,
     "metadata": {},
     "output_type": "execute_result"
    }
   ],
   "source": [
    "s"
   ]
  },
  {
   "cell_type": "code",
   "execution_count": 10,
   "id": "f387e376",
   "metadata": {},
   "outputs": [],
   "source": []
  },
  {
   "cell_type": "code",
   "execution_count": 12,
   "id": "eadd3c49",
   "metadata": {},
   "outputs": [
    {
     "ename": "TypeError",
     "evalue": "unhashable type: 'set'",
     "output_type": "error",
     "traceback": [
      "\u001b[1;31m---------------------------------------------------------------------------\u001b[0m",
      "\u001b[1;31mTypeError\u001b[0m                                 Traceback (most recent call last)",
      "Input \u001b[1;32mIn [12]\u001b[0m, in \u001b[0;36m<cell line: 1>\u001b[1;34m()\u001b[0m\n\u001b[1;32m----> 1\u001b[0m \u001b[43ms\u001b[49m\u001b[38;5;241;43m.\u001b[39;49m\u001b[43madd\u001b[49m\u001b[43m(\u001b[49m\u001b[43ms1\u001b[49m\u001b[43m)\u001b[49m\n",
      "\u001b[1;31mTypeError\u001b[0m: unhashable type: 'set'"
     ]
    }
   ],
   "source": [
    "s.add(s1)"
   ]
  },
  {
   "cell_type": "code",
   "execution_count": 17,
   "id": "34735927",
   "metadata": {},
   "outputs": [],
   "source": [
    "s1 = {1,2,12,4,5}"
   ]
  },
  {
   "cell_type": "code",
   "execution_count": 18,
   "id": "084e504d",
   "metadata": {},
   "outputs": [
    {
     "ename": "TypeError",
     "evalue": "unhashable type: 'set'",
     "output_type": "error",
     "traceback": [
      "\u001b[1;31m---------------------------------------------------------------------------\u001b[0m",
      "\u001b[1;31mTypeError\u001b[0m                                 Traceback (most recent call last)",
      "Input \u001b[1;32mIn [18]\u001b[0m, in \u001b[0;36m<cell line: 1>\u001b[1;34m()\u001b[0m\n\u001b[1;32m----> 1\u001b[0m \u001b[43ms\u001b[49m\u001b[38;5;241;43m.\u001b[39;49m\u001b[43madd\u001b[49m\u001b[43m(\u001b[49m\u001b[43ms1\u001b[49m\u001b[43m)\u001b[49m\n",
      "\u001b[1;31mTypeError\u001b[0m: unhashable type: 'set'"
     ]
    }
   ],
   "source": [
    "s.add(s1)"
   ]
  },
  {
   "cell_type": "code",
   "execution_count": 16,
   "id": "73e7984c",
   "metadata": {},
   "outputs": [
    {
     "data": {
      "text/plain": [
       "{1.5, 10, 20, 30, 350, 40, 400, 'set'}"
      ]
     },
     "execution_count": 16,
     "metadata": {},
     "output_type": "execute_result"
    }
   ],
   "source": [
    "s"
   ]
  },
  {
   "cell_type": "code",
   "execution_count": 23,
   "id": "ff71477e",
   "metadata": {},
   "outputs": [],
   "source": [
    "s1 = (1,2,12,3,5)"
   ]
  },
  {
   "cell_type": "code",
   "execution_count": 24,
   "id": "8e5669e6",
   "metadata": {},
   "outputs": [],
   "source": [
    "s.add(s1)"
   ]
  },
  {
   "cell_type": "code",
   "execution_count": 25,
   "id": "e31d3f92",
   "metadata": {},
   "outputs": [
    {
     "data": {
      "text/plain": [
       "{(1, 2, 12, 3, 5), 1.5, 10, 20, 30, 350, 40, 400, 'set'}"
      ]
     },
     "execution_count": 25,
     "metadata": {},
     "output_type": "execute_result"
    }
   ],
   "source": [
    "s"
   ]
  },
  {
   "cell_type": "code",
   "execution_count": 34,
   "id": "49733b1d",
   "metadata": {},
   "outputs": [],
   "source": [
    "s1 = (1,2,3,45)"
   ]
  },
  {
   "cell_type": "code",
   "execution_count": 38,
   "id": "2df7bbd9",
   "metadata": {},
   "outputs": [],
   "source": [
    "s1 = {11,12,13,14}"
   ]
  },
  {
   "cell_type": "code",
   "execution_count": 39,
   "id": "0a4fe5b7",
   "metadata": {},
   "outputs": [],
   "source": [
    "s.update(s1)"
   ]
  },
  {
   "cell_type": "code",
   "execution_count": 40,
   "id": "456311cf",
   "metadata": {},
   "outputs": [
    {
     "data": {
      "text/plain": [
       "{(1, 2, 12, 3, 5),\n",
       " 1,\n",
       " 1.5,\n",
       " 10,\n",
       " 11,\n",
       " 12,\n",
       " 13,\n",
       " 14,\n",
       " 2,\n",
       " 20,\n",
       " 3,\n",
       " 30,\n",
       " 350,\n",
       " 4,\n",
       " 40,\n",
       " 400,\n",
       " 45,\n",
       " 'set'}"
      ]
     },
     "execution_count": 40,
     "metadata": {},
     "output_type": "execute_result"
    }
   ],
   "source": [
    "s"
   ]
  },
  {
   "cell_type": "code",
   "execution_count": 41,
   "id": "2ae96e7f",
   "metadata": {},
   "outputs": [
    {
     "data": {
      "text/plain": [
       "{11, 12, 13, 14}"
      ]
     },
     "execution_count": 41,
     "metadata": {},
     "output_type": "execute_result"
    }
   ],
   "source": [
    "s1"
   ]
  },
  {
   "cell_type": "code",
   "execution_count": 42,
   "id": "5e0f7ac3",
   "metadata": {},
   "outputs": [],
   "source": [
    "s2 = s1.copy()"
   ]
  },
  {
   "cell_type": "code",
   "execution_count": 43,
   "id": "2d7d50f8",
   "metadata": {},
   "outputs": [
    {
     "data": {
      "text/plain": [
       "{11, 12, 13, 14}"
      ]
     },
     "execution_count": 43,
     "metadata": {},
     "output_type": "execute_result"
    }
   ],
   "source": [
    "s2"
   ]
  },
  {
   "cell_type": "code",
   "execution_count": 44,
   "id": "b6a5ff8e",
   "metadata": {},
   "outputs": [
    {
     "data": {
      "text/plain": [
       "1.5"
      ]
     },
     "execution_count": 44,
     "metadata": {},
     "output_type": "execute_result"
    }
   ],
   "source": [
    "s.pop()#set ,#list ,#dict in set it removes first element"
   ]
  },
  {
   "cell_type": "code",
   "execution_count": 45,
   "id": "29d38381",
   "metadata": {},
   "outputs": [
    {
     "data": {
      "text/plain": [
       "11"
      ]
     },
     "execution_count": 45,
     "metadata": {},
     "output_type": "execute_result"
    }
   ],
   "source": [
    "s1.pop()"
   ]
  },
  {
   "cell_type": "code",
   "execution_count": 46,
   "id": "48e27893",
   "metadata": {},
   "outputs": [
    {
     "data": {
      "text/plain": [
       "{12, 13, 14}"
      ]
     },
     "execution_count": 46,
     "metadata": {},
     "output_type": "execute_result"
    }
   ],
   "source": [
    "s1"
   ]
  },
  {
   "cell_type": "code",
   "execution_count": 47,
   "id": "5713bf4f",
   "metadata": {},
   "outputs": [
    {
     "data": {
      "text/plain": [
       "{(1, 2, 12, 3, 5),\n",
       " 1,\n",
       " 10,\n",
       " 11,\n",
       " 12,\n",
       " 13,\n",
       " 14,\n",
       " 2,\n",
       " 20,\n",
       " 3,\n",
       " 30,\n",
       " 350,\n",
       " 4,\n",
       " 40,\n",
       " 400,\n",
       " 45,\n",
       " 'set'}"
      ]
     },
     "execution_count": 47,
     "metadata": {},
     "output_type": "execute_result"
    }
   ],
   "source": [
    "s"
   ]
  },
  {
   "cell_type": "code",
   "execution_count": 49,
   "id": "74ca8f74",
   "metadata": {},
   "outputs": [
    {
     "ename": "KeyError",
     "evalue": "12",
     "output_type": "error",
     "traceback": [
      "\u001b[1;31m---------------------------------------------------------------------------\u001b[0m",
      "\u001b[1;31mKeyError\u001b[0m                                  Traceback (most recent call last)",
      "Input \u001b[1;32mIn [49]\u001b[0m, in \u001b[0;36m<cell line: 1>\u001b[1;34m()\u001b[0m\n\u001b[1;32m----> 1\u001b[0m \u001b[43ms\u001b[49m\u001b[38;5;241;43m.\u001b[39;49m\u001b[43mremove\u001b[49m\u001b[43m(\u001b[49m\u001b[38;5;241;43m12\u001b[39;49m\u001b[43m)\u001b[49m\n",
      "\u001b[1;31mKeyError\u001b[0m: 12"
     ]
    }
   ],
   "source": [
    "s.remove(12)"
   ]
  },
  {
   "cell_type": "code",
   "execution_count": 50,
   "id": "3cbdfd62",
   "metadata": {},
   "outputs": [
    {
     "data": {
      "text/plain": [
       "{(1, 2, 12, 3, 5), 1, 10, 11, 13, 14, 2, 20, 3, 30, 350, 4, 40, 400, 45, 'set'}"
      ]
     },
     "execution_count": 50,
     "metadata": {},
     "output_type": "execute_result"
    }
   ],
   "source": [
    "s"
   ]
  },
  {
   "cell_type": "code",
   "execution_count": 52,
   "id": "1b040b64",
   "metadata": {},
   "outputs": [],
   "source": [
    "s.remove(13)"
   ]
  },
  {
   "cell_type": "code",
   "execution_count": 53,
   "id": "09cd66eb",
   "metadata": {},
   "outputs": [
    {
     "data": {
      "text/plain": [
       "{(1, 2, 12, 3, 5), 1, 10, 11, 14, 2, 20, 3, 30, 350, 4, 40, 400, 45, 'set'}"
      ]
     },
     "execution_count": 53,
     "metadata": {},
     "output_type": "execute_result"
    }
   ],
   "source": [
    "s"
   ]
  },
  {
   "cell_type": "code",
   "execution_count": 58,
   "id": "49212a94",
   "metadata": {},
   "outputs": [],
   "source": [
    "s.discard(s1)"
   ]
  },
  {
   "cell_type": "code",
   "execution_count": 59,
   "id": "9183e041",
   "metadata": {},
   "outputs": [
    {
     "data": {
      "text/plain": [
       "{(1, 2, 12, 3, 5), 1, 10, 14, 2, 20, 3, 30, 350, 4, 40, 400, 45, 'set'}"
      ]
     },
     "execution_count": 59,
     "metadata": {},
     "output_type": "execute_result"
    }
   ],
   "source": [
    "s"
   ]
  },
  {
   "cell_type": "raw",
   "id": "6e7573af",
   "metadata": {},
   "source": []
  },
  {
   "cell_type": "code",
   "execution_count": 60,
   "id": "e5e7ed9e",
   "metadata": {},
   "outputs": [],
   "source": [
    "s.clear()"
   ]
  },
  {
   "cell_type": "code",
   "execution_count": 61,
   "id": "35c87e19",
   "metadata": {},
   "outputs": [
    {
     "data": {
      "text/plain": [
       "set()"
      ]
     },
     "execution_count": 61,
     "metadata": {},
     "output_type": "execute_result"
    }
   ],
   "source": [
    "s"
   ]
  },
  {
   "cell_type": "code",
   "execution_count": 64,
   "id": "893f7ed7",
   "metadata": {},
   "outputs": [],
   "source": [
    "t = (10,80,56,1,4,20)"
   ]
  },
  {
   "cell_type": "code",
   "execution_count": 65,
   "id": "d0673655",
   "metadata": {},
   "outputs": [
    {
     "data": {
      "text/plain": [
       "{1, 4, 10, 20, 56, 80}"
      ]
     },
     "execution_count": 65,
     "metadata": {},
     "output_type": "execute_result"
    }
   ],
   "source": [
    "set(t)"
   ]
  },
  {
   "cell_type": "code",
   "execution_count": 84,
   "id": "b875220f",
   "metadata": {},
   "outputs": [],
   "source": [
    "s = \"pythonpycharn\""
   ]
  },
  {
   "cell_type": "code",
   "execution_count": 85,
   "id": "34128fcf",
   "metadata": {
    "scrolled": true
   },
   "outputs": [
    {
     "data": {
      "text/plain": [
       "'python'"
      ]
     },
     "execution_count": 85,
     "metadata": {},
     "output_type": "execute_result"
    }
   ],
   "source": [
    "s1 = s[:6]\n",
    "s1"
   ]
  },
  {
   "cell_type": "code",
   "execution_count": 88,
   "id": "8b673afd",
   "metadata": {},
   "outputs": [],
   "source": [
    "s2 = s[6:]\n",
    "s3 = s2[::-1]"
   ]
  },
  {
   "cell_type": "code",
   "execution_count": 89,
   "id": "6d46d715",
   "metadata": {},
   "outputs": [
    {
     "data": {
      "text/plain": [
       "'pythonnrahcyp'"
      ]
     },
     "execution_count": 89,
     "metadata": {},
     "output_type": "execute_result"
    }
   ],
   "source": [
    "s1+s3"
   ]
  },
  {
   "cell_type": "code",
   "execution_count": 83,
   "id": "2a8a0174",
   "metadata": {},
   "outputs": [
    {
     "data": {
      "text/plain": [
       "{4, 5, 6, 10, 20, 30}"
      ]
     },
     "execution_count": 83,
     "metadata": {},
     "output_type": "execute_result"
    }
   ],
   "source": [
    "set(s)"
   ]
  },
  {
   "cell_type": "code",
   "execution_count": 68,
   "id": "9f30f470",
   "metadata": {},
   "outputs": [],
   "source": [
    "s1 = \"pythonerahc\""
   ]
  },
  {
   "cell_type": "code",
   "execution_count": 69,
   "id": "4016b512",
   "metadata": {},
   "outputs": [
    {
     "data": {
      "text/plain": [
       "'erahcypnohtyp'"
      ]
     },
     "execution_count": 69,
     "metadata": {},
     "output_type": "execute_result"
    }
   ],
   "source": [
    "s[::-1]"
   ]
  },
  {
   "cell_type": "code",
   "execution_count": 70,
   "id": "5480e852",
   "metadata": {},
   "outputs": [],
   "source": [
    "d = {\"key\":\"value\",\"a\":\"12\",\"c\":122}"
   ]
  },
  {
   "cell_type": "code",
   "execution_count": 71,
   "id": "4d32dc02",
   "metadata": {},
   "outputs": [
    {
     "data": {
      "text/plain": [
       "{'a', 'c', 'key'}"
      ]
     },
     "execution_count": 71,
     "metadata": {},
     "output_type": "execute_result"
    }
   ],
   "source": [
    "set(d)"
   ]
  },
  {
   "cell_type": "code",
   "execution_count": 72,
   "id": "24bd157b",
   "metadata": {},
   "outputs": [],
   "source": [
    "s = {10,20,30,4,5,6}\n",
    "s1 = {1,2,30,4,7,8}"
   ]
  },
  {
   "cell_type": "code",
   "execution_count": 73,
   "id": "12d1ace3",
   "metadata": {},
   "outputs": [
    {
     "data": {
      "text/plain": [
       "{4, 30}"
      ]
     },
     "execution_count": 73,
     "metadata": {},
     "output_type": "execute_result"
    }
   ],
   "source": [
    "s.intersection(s1)"
   ]
  },
  {
   "cell_type": "code",
   "execution_count": 74,
   "id": "b3ac3bba",
   "metadata": {},
   "outputs": [
    {
     "data": {
      "text/plain": [
       "{1, 2, 4, 5, 6, 7, 8, 10, 20, 30}"
      ]
     },
     "execution_count": 74,
     "metadata": {},
     "output_type": "execute_result"
    }
   ],
   "source": [
    "s.union(s1)"
   ]
  },
  {
   "cell_type": "code",
   "execution_count": 75,
   "id": "a3659fbf",
   "metadata": {},
   "outputs": [
    {
     "data": {
      "text/plain": [
       "{1, 2, 5, 6, 7, 8, 10, 20}"
      ]
     },
     "execution_count": 75,
     "metadata": {},
     "output_type": "execute_result"
    }
   ],
   "source": [
    "s.symmetric_difference(s1)"
   ]
  },
  {
   "cell_type": "code",
   "execution_count": 76,
   "id": "0b0f4868",
   "metadata": {},
   "outputs": [
    {
     "data": {
      "text/plain": [
       "{5, 6, 10, 20}"
      ]
     },
     "execution_count": 76,
     "metadata": {},
     "output_type": "execute_result"
    }
   ],
   "source": [
    "s.difference(s1)"
   ]
  },
  {
   "cell_type": "code",
   "execution_count": 77,
   "id": "2d7b5e73",
   "metadata": {},
   "outputs": [
    {
     "data": {
      "text/plain": [
       "{1, 2, 7, 8}"
      ]
     },
     "execution_count": 77,
     "metadata": {},
     "output_type": "execute_result"
    }
   ],
   "source": [
    "s1.difference(s)"
   ]
  },
  {
   "cell_type": "code",
   "execution_count": 78,
   "id": "aa7e2597",
   "metadata": {},
   "outputs": [
    {
     "data": {
      "text/plain": [
       "{4, 5, 6, 10, 20, 30}"
      ]
     },
     "execution_count": 78,
     "metadata": {},
     "output_type": "execute_result"
    }
   ],
   "source": [
    "s"
   ]
  },
  {
   "cell_type": "code",
   "execution_count": 79,
   "id": "13b457ed",
   "metadata": {},
   "outputs": [
    {
     "data": {
      "text/plain": [
       "False"
      ]
     },
     "execution_count": 79,
     "metadata": {},
     "output_type": "execute_result"
    }
   ],
   "source": [
    "40 in s"
   ]
  },
  {
   "cell_type": "code",
   "execution_count": null,
   "id": "3c29ff3b",
   "metadata": {},
   "outputs": [],
   "source": []
  }
 ],
 "metadata": {
  "kernelspec": {
   "display_name": "Python 3 (ipykernel)",
   "language": "python",
   "name": "python3"
  },
  "language_info": {
   "codemirror_mode": {
    "name": "ipython",
    "version": 3
   },
   "file_extension": ".py",
   "mimetype": "text/x-python",
   "name": "python",
   "nbconvert_exporter": "python",
   "pygments_lexer": "ipython3",
   "version": "3.9.12"
  }
 },
 "nbformat": 4,
 "nbformat_minor": 5
}
