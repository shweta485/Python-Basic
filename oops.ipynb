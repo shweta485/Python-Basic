{
 "cells": [
  {
   "cell_type": "code",
   "execution_count": 2,
   "id": "4961f9b8",
   "metadata": {},
   "outputs": [
    {
     "data": {
      "text/plain": [
       "<function __main__.func_name()>"
      ]
     },
     "execution_count": 2,
     "metadata": {},
     "output_type": "execute_result"
    }
   ],
   "source": [
    "def func_name():\n",
    "    print(\"This is a function\")\n",
    "func_name"
   ]
  },
  {
   "cell_type": "code",
   "execution_count": 3,
   "id": "7afa0adb",
   "metadata": {},
   "outputs": [],
   "source": [
    "class Myclass:\n",
    "    def func_name():\n",
    "        print(\"This is a function\")"
   ]
  },
  {
   "cell_type": "code",
   "execution_count": 4,
   "id": "209a6805",
   "metadata": {},
   "outputs": [
    {
     "ename": "TypeError",
     "evalue": "func_name() takes 0 positional arguments but 1 was given",
     "output_type": "error",
     "traceback": [
      "\u001b[1;31m---------------------------------------------------------------------------\u001b[0m",
      "\u001b[1;31mTypeError\u001b[0m                                 Traceback (most recent call last)",
      "Input \u001b[1;32mIn [4]\u001b[0m, in \u001b[0;36m<cell line: 2>\u001b[1;34m()\u001b[0m\n\u001b[0;32m      1\u001b[0m c \u001b[38;5;241m=\u001b[39m Myclass()\n\u001b[1;32m----> 2\u001b[0m \u001b[43mc\u001b[49m\u001b[38;5;241;43m.\u001b[39;49m\u001b[43mfunc_name\u001b[49m\u001b[43m(\u001b[49m\u001b[43m)\u001b[49m\n",
      "\u001b[1;31mTypeError\u001b[0m: func_name() takes 0 positional arguments but 1 was given"
     ]
    }
   ],
   "source": [
    "c = Myclass()\n",
    "c.func_name()"
   ]
  },
  {
   "cell_type": "code",
   "execution_count": 5,
   "id": "d4feffa2",
   "metadata": {},
   "outputs": [],
   "source": [
    "s = \"  sggkk  \""
   ]
  },
  {
   "cell_type": "code",
   "execution_count": 6,
   "id": "7c679e59",
   "metadata": {},
   "outputs": [
    {
     "data": {
      "text/plain": [
       "'  SGGKK  '"
      ]
     },
     "execution_count": 6,
     "metadata": {},
     "output_type": "execute_result"
    }
   ],
   "source": [
    "s.swapcase()"
   ]
  },
  {
   "cell_type": "code",
   "execution_count": 7,
   "id": "66a3611a",
   "metadata": {},
   "outputs": [],
   "source": [
    "class Myclass:\n",
    "    def func_name(self):\n",
    "        print(\"This is a function\")"
   ]
  },
  {
   "cell_type": "code",
   "execution_count": 9,
   "id": "c714f32b",
   "metadata": {},
   "outputs": [
    {
     "name": "stdout",
     "output_type": "stream",
     "text": [
      "This is a function\n"
     ]
    }
   ],
   "source": [
    "c = Myclass()\n",
    "c.func_name()"
   ]
  },
  {
   "cell_type": "code",
   "execution_count": 10,
   "id": "0915e57b",
   "metadata": {},
   "outputs": [
    {
     "name": "stdout",
     "output_type": "stream",
     "text": [
      "This is init function\n"
     ]
    }
   ],
   "source": [
    "class info:\n",
    "    def __init__(self,name,age):\n",
    "        self.name = name\n",
    "        self.age = age\n",
    "        print(\"This is init function\")\n",
    "i = info('shweta',21)"
   ]
  },
  {
   "cell_type": "code",
   "execution_count": 12,
   "id": "bd96567b",
   "metadata": {},
   "outputs": [
    {
     "name": "stdout",
     "output_type": "stream",
     "text": [
      "This is init function\n",
      "The name of employee is: shweta\n",
      "The age of employee is: 21\n"
     ]
    }
   ],
   "source": [
    "class info:\n",
    "    def __init__(self,name,age):\n",
    "        self.name = name\n",
    "        self.age = age\n",
    "        print(\"This is init function\")\n",
    "    def display(self):\n",
    "        print(\"The name of employee is:\",self.name)\n",
    "        print(\"The age of employee is:\",self.age)\n",
    "i = info('shweta',21)\n",
    "i.display()"
   ]
  },
  {
   "cell_type": "code",
   "execution_count": 13,
   "id": "3642b001",
   "metadata": {},
   "outputs": [
    {
     "name": "stdout",
     "output_type": "stream",
     "text": [
      "class is created succesfully\n"
     ]
    }
   ],
   "source": [
    "class info:\n",
    "    def __init__(self,name,age,contact,email):\n",
    "        self.name = name\n",
    "        self.age = age\n",
    "        self.contact = contact\n",
    "        self.email = email\n",
    "        print(\"class is created succesfully\")\n",
    "    def display(self):\n",
    "        print(\"The name of employee is:\",self.name)\n",
    "        print(\"The age of employee is:\",self.age)\n",
    "    def phone_email(self):\n",
    "        print(\"The contact of employee is:\",self.contact)\n",
    "        print(\"The email of empolyee is:\",self.email)\n",
    "i = info('shweta',21,8080376170,\"abc@gmail.com\")\n"
   ]
  },
  {
   "cell_type": "code",
   "execution_count": 19,
   "id": "7a9333ac",
   "metadata": {},
   "outputs": [
    {
     "name": "stdout",
     "output_type": "stream",
     "text": [
      "class is created succesfully\n"
     ]
    }
   ],
   "source": [
    "class customer_information():\n",
    "    \"This is class is used to get customer infomation\"\n",
    "    def __init__(self,name,age,contact,email):\n",
    "        self.name = name\n",
    "        self.age = age\n",
    "        self.contact = contact\n",
    "        self.email = email\n",
    "        print(\"class is created succesfully\")\n",
    "    def name_age(self):\n",
    "        \"This function is used to get name and age\"\n",
    "        print(\"The name of employee is:\",self.name)\n",
    "        print(\"The age of employee is:\",self.age)\n",
    "    def phone_email(self):\n",
    "        \"This function is used to get contact and email\"\n",
    "        print(\"The contact of employee is:\",self.contact)\n",
    "        print(\"The email of empolyee is:\",self.email)\n",
    "info = customer_information('shweta',21,8080376170,\"abc@gmail.com\")"
   ]
  },
  {
   "cell_type": "code",
   "execution_count": 20,
   "id": "db0c2c19",
   "metadata": {},
   "outputs": [
    {
     "name": "stdout",
     "output_type": "stream",
     "text": [
      "The name of employee is: shweta\n",
      "The age of employee is: 21\n"
     ]
    }
   ],
   "source": [
    "info.name_age()"
   ]
  },
  {
   "cell_type": "code",
   "execution_count": 22,
   "id": "1463be2a",
   "metadata": {},
   "outputs": [
    {
     "data": {
      "text/plain": [
       "8080376170"
      ]
     },
     "execution_count": 22,
     "metadata": {},
     "output_type": "execute_result"
    }
   ],
   "source": [
    "info.contact"
   ]
  },
  {
   "cell_type": "code",
   "execution_count": 24,
   "id": "ade96330",
   "metadata": {},
   "outputs": [
    {
     "name": "stdout",
     "output_type": "stream",
     "text": [
      "The contact of employee is: 8080376170\n",
      "The email of empolyee is: abc@gmail.com\n"
     ]
    }
   ],
   "source": [
    "info.phone_email()"
   ]
  },
  {
   "cell_type": "code",
   "execution_count": null,
   "id": "51770e41",
   "metadata": {},
   "outputs": [],
   "source": []
  }
 ],
 "metadata": {
  "kernelspec": {
   "display_name": "Python 3 (ipykernel)",
   "language": "python",
   "name": "python3"
  },
  "language_info": {
   "codemirror_mode": {
    "name": "ipython",
    "version": 3
   },
   "file_extension": ".py",
   "mimetype": "text/x-python",
   "name": "python",
   "nbconvert_exporter": "python",
   "pygments_lexer": "ipython3",
   "version": "3.9.12"
  }
 },
 "nbformat": 4,
 "nbformat_minor": 5
}
