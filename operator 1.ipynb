{
 "cells": [
  {
   "cell_type": "markdown",
   "id": "e50fd203",
   "metadata": {},
   "source": [
    "# operators"
   ]
  },
  {
   "cell_type": "code",
   "execution_count": 1,
   "id": "0ae75949",
   "metadata": {},
   "outputs": [],
   "source": [
    "a=\"python\"\n",
    "b=15\n",
    "c=15.4587"
   ]
  },
  {
   "cell_type": "code",
   "execution_count": 5,
   "id": "591cda4c",
   "metadata": {},
   "outputs": [
    {
     "data": {
      "text/plain": [
       "'python'"
      ]
     },
     "execution_count": 5,
     "metadata": {},
     "output_type": "execute_result"
    }
   ],
   "source": [
    "a"
   ]
  },
  {
   "cell_type": "code",
   "execution_count": 6,
   "id": "c0f4f008",
   "metadata": {},
   "outputs": [
    {
     "name": "stdout",
     "output_type": "stream",
     "text": [
      "python\n"
     ]
    }
   ],
   "source": [
    "print(a)"
   ]
  },
  {
   "cell_type": "code",
   "execution_count": 7,
   "id": "019c8a73",
   "metadata": {},
   "outputs": [],
   "source": [
    "# type"
   ]
  },
  {
   "cell_type": "code",
   "execution_count": 8,
   "id": "d63d97d4",
   "metadata": {},
   "outputs": [],
   "source": [
    "a=\"python\"\n",
    "b=15\n",
    "c=15.4587"
   ]
  },
  {
   "cell_type": "code",
   "execution_count": 9,
   "id": "5290b43d",
   "metadata": {},
   "outputs": [
    {
     "data": {
      "text/plain": [
       "str"
      ]
     },
     "execution_count": 9,
     "metadata": {},
     "output_type": "execute_result"
    }
   ],
   "source": [
    "type(a)"
   ]
  },
  {
   "cell_type": "code",
   "execution_count": 10,
   "id": "ea0fb504",
   "metadata": {},
   "outputs": [
    {
     "data": {
      "text/plain": [
       "int"
      ]
     },
     "execution_count": 10,
     "metadata": {},
     "output_type": "execute_result"
    }
   ],
   "source": [
    "type(b)"
   ]
  },
  {
   "cell_type": "code",
   "execution_count": 11,
   "id": "366d2933",
   "metadata": {},
   "outputs": [
    {
     "data": {
      "text/plain": [
       "float"
      ]
     },
     "execution_count": 11,
     "metadata": {},
     "output_type": "execute_result"
    }
   ],
   "source": [
    "type(c)"
   ]
  },
  {
   "cell_type": "raw",
   "id": "009a01d1",
   "metadata": {},
   "source": [
    "1. Mathamatical"
   ]
  },
  {
   "cell_type": "code",
   "execution_count": 12,
   "id": "2e35035d",
   "metadata": {},
   "outputs": [],
   "source": [
    "# +,-,*,/,//,% "
   ]
  },
  {
   "cell_type": "code",
   "execution_count": 13,
   "id": "e9253882",
   "metadata": {},
   "outputs": [],
   "source": [
    "a=10\n",
    "b=3"
   ]
  },
  {
   "cell_type": "code",
   "execution_count": 14,
   "id": "8e2b34ec",
   "metadata": {},
   "outputs": [
    {
     "data": {
      "text/plain": [
       "13"
      ]
     },
     "execution_count": 14,
     "metadata": {},
     "output_type": "execute_result"
    }
   ],
   "source": [
    "a+b"
   ]
  },
  {
   "cell_type": "code",
   "execution_count": 15,
   "id": "94349b6f",
   "metadata": {},
   "outputs": [
    {
     "data": {
      "text/plain": [
       "7"
      ]
     },
     "execution_count": 15,
     "metadata": {},
     "output_type": "execute_result"
    }
   ],
   "source": [
    "a-b"
   ]
  },
  {
   "cell_type": "code",
   "execution_count": 16,
   "id": "ff77b94a",
   "metadata": {},
   "outputs": [
    {
     "data": {
      "text/plain": [
       "3.3333333333333335"
      ]
     },
     "execution_count": 16,
     "metadata": {},
     "output_type": "execute_result"
    }
   ],
   "source": [
    "a/b"
   ]
  },
  {
   "cell_type": "code",
   "execution_count": 17,
   "id": "4d21df1e",
   "metadata": {},
   "outputs": [
    {
     "data": {
      "text/plain": [
       "3"
      ]
     },
     "execution_count": 17,
     "metadata": {},
     "output_type": "execute_result"
    }
   ],
   "source": [
    "a//b"
   ]
  },
  {
   "cell_type": "code",
   "execution_count": 18,
   "id": "616406ed",
   "metadata": {},
   "outputs": [
    {
     "data": {
      "text/plain": [
       "1"
      ]
     },
     "execution_count": 18,
     "metadata": {},
     "output_type": "execute_result"
    }
   ],
   "source": [
    "a%b"
   ]
  },
  {
   "cell_type": "code",
   "execution_count": 19,
   "id": "f1d828cc",
   "metadata": {},
   "outputs": [],
   "source": [
    "# 2.Rational"
   ]
  },
  {
   "cell_type": "code",
   "execution_count": 21,
   "id": "1b3a21cd",
   "metadata": {},
   "outputs": [],
   "source": [
    "# >,>=,<,<=,==,!=,"
   ]
  },
  {
   "cell_type": "code",
   "execution_count": 22,
   "id": "a3427b57",
   "metadata": {},
   "outputs": [
    {
     "data": {
      "text/plain": [
       "True"
      ]
     },
     "execution_count": 22,
     "metadata": {},
     "output_type": "execute_result"
    }
   ],
   "source": [
    "10>1"
   ]
  },
  {
   "cell_type": "code",
   "execution_count": 23,
   "id": "7bb39716",
   "metadata": {},
   "outputs": [
    {
     "data": {
      "text/plain": [
       "False"
      ]
     },
     "execution_count": 23,
     "metadata": {},
     "output_type": "execute_result"
    }
   ],
   "source": [
    "10<5"
   ]
  },
  {
   "cell_type": "code",
   "execution_count": 24,
   "id": "1e87ee78",
   "metadata": {},
   "outputs": [
    {
     "data": {
      "text/plain": [
       "True"
      ]
     },
     "execution_count": 24,
     "metadata": {},
     "output_type": "execute_result"
    }
   ],
   "source": [
    "10!=1"
   ]
  },
  {
   "cell_type": "code",
   "execution_count": 25,
   "id": "2a424f3e",
   "metadata": {},
   "outputs": [],
   "source": [
    "# 3.logical"
   ]
  },
  {
   "cell_type": "code",
   "execution_count": 28,
   "id": "842059e5",
   "metadata": {},
   "outputs": [],
   "source": [
    "a=True\n",
    "b=True"
   ]
  },
  {
   "cell_type": "code",
   "execution_count": 29,
   "id": "0834b444",
   "metadata": {},
   "outputs": [
    {
     "data": {
      "text/plain": [
       "True"
      ]
     },
     "execution_count": 29,
     "metadata": {},
     "output_type": "execute_result"
    }
   ],
   "source": [
    "a and b"
   ]
  },
  {
   "cell_type": "code",
   "execution_count": 30,
   "id": "862c14c3",
   "metadata": {},
   "outputs": [
    {
     "data": {
      "text/plain": [
       "True"
      ]
     },
     "execution_count": 30,
     "metadata": {},
     "output_type": "execute_result"
    }
   ],
   "source": [
    "a or b"
   ]
  },
  {
   "cell_type": "code",
   "execution_count": 31,
   "id": "e7e6e262",
   "metadata": {},
   "outputs": [
    {
     "data": {
      "text/plain": [
       "False"
      ]
     },
     "execution_count": 31,
     "metadata": {},
     "output_type": "execute_result"
    }
   ],
   "source": [
    "not a"
   ]
  },
  {
   "cell_type": "code",
   "execution_count": 32,
   "id": "4e1f6c19",
   "metadata": {},
   "outputs": [
    {
     "data": {
      "text/plain": [
       "False"
      ]
     },
     "execution_count": 32,
     "metadata": {},
     "output_type": "execute_result"
    }
   ],
   "source": [
    "not b"
   ]
  },
  {
   "cell_type": "code",
   "execution_count": 33,
   "id": "3af3d18e",
   "metadata": {},
   "outputs": [],
   "source": [
    "# 4.Assignment"
   ]
  },
  {
   "cell_type": "code",
   "execution_count": 34,
   "id": "dcf5397f",
   "metadata": {},
   "outputs": [],
   "source": [
    "# =,+=,-=,*=,/=,"
   ]
  },
  {
   "cell_type": "code",
   "execution_count": 48,
   "id": "3ba30de4",
   "metadata": {},
   "outputs": [
    {
     "data": {
      "text/plain": [
       "3"
      ]
     },
     "execution_count": 48,
     "metadata": {},
     "output_type": "execute_result"
    }
   ],
   "source": [
    "a=a+1\n",
    "a\n"
   ]
  },
  {
   "cell_type": "code",
   "execution_count": 51,
   "id": "913c6e36",
   "metadata": {},
   "outputs": [
    {
     "data": {
      "text/plain": [
       "6"
      ]
     },
     "execution_count": 51,
     "metadata": {},
     "output_type": "execute_result"
    }
   ],
   "source": [
    "a+=1\n",
    "a"
   ]
  },
  {
   "cell_type": "code",
   "execution_count": 52,
   "id": "074c4adc",
   "metadata": {},
   "outputs": [
    {
     "data": {
      "text/plain": [
       "5"
      ]
     },
     "execution_count": 52,
     "metadata": {},
     "output_type": "execute_result"
    }
   ],
   "source": [
    "a-=1\n",
    "a"
   ]
  },
  {
   "cell_type": "code",
   "execution_count": 53,
   "id": "982e3fc5",
   "metadata": {},
   "outputs": [],
   "source": [
    "# 5.Bitwise"
   ]
  },
  {
   "cell_type": "code",
   "execution_count": 54,
   "id": "a6f3abde",
   "metadata": {},
   "outputs": [],
   "source": [
    "a=12"
   ]
  },
  {
   "cell_type": "code",
   "execution_count": 55,
   "id": "4a7f7733",
   "metadata": {},
   "outputs": [
    {
     "data": {
      "text/plain": [
       "48"
      ]
     },
     "execution_count": 55,
     "metadata": {},
     "output_type": "execute_result"
    }
   ],
   "source": [
    "a<<2"
   ]
  },
  {
   "cell_type": "code",
   "execution_count": 56,
   "id": "e4324edb",
   "metadata": {},
   "outputs": [
    {
     "data": {
      "text/plain": [
       "1"
      ]
     },
     "execution_count": 56,
     "metadata": {},
     "output_type": "execute_result"
    }
   ],
   "source": [
    "a>>3"
   ]
  },
  {
   "cell_type": "code",
   "execution_count": 57,
   "id": "d265e817",
   "metadata": {},
   "outputs": [],
   "source": [
    "# 6. Membership"
   ]
  },
  {
   "cell_type": "code",
   "execution_count": 58,
   "id": "9bebe613",
   "metadata": {},
   "outputs": [],
   "source": [
    "s=\"Learning Python\""
   ]
  },
  {
   "cell_type": "code",
   "execution_count": 60,
   "id": "6fba0ca0",
   "metadata": {},
   "outputs": [
    {
     "data": {
      "text/plain": [
       "True"
      ]
     },
     "execution_count": 60,
     "metadata": {},
     "output_type": "execute_result"
    }
   ],
   "source": [
    "\"nin\" in s"
   ]
  },
  {
   "cell_type": "code",
   "execution_count": 62,
   "id": "319e3033",
   "metadata": {},
   "outputs": [
    {
     "data": {
      "text/plain": [
       "True"
      ]
     },
     "execution_count": 62,
     "metadata": {},
     "output_type": "execute_result"
    }
   ],
   "source": [
    "\"java\" not in s"
   ]
  },
  {
   "cell_type": "code",
   "execution_count": 63,
   "id": "19e57561",
   "metadata": {},
   "outputs": [
    {
     "data": {
      "text/plain": [
       "False"
      ]
     },
     "execution_count": 63,
     "metadata": {},
     "output_type": "execute_result"
    }
   ],
   "source": [
    "\"learning\" in s"
   ]
  },
  {
   "cell_type": "code",
   "execution_count": 64,
   "id": "aad1500b",
   "metadata": {},
   "outputs": [],
   "source": [
    "# 7. identify"
   ]
  },
  {
   "cell_type": "code",
   "execution_count": 65,
   "id": "39c5ad39",
   "metadata": {},
   "outputs": [],
   "source": [
    "s=\"abc\"\n",
    "s1=\"abc1\""
   ]
  },
  {
   "cell_type": "code",
   "execution_count": 66,
   "id": "8f630987",
   "metadata": {},
   "outputs": [
    {
     "data": {
      "text/plain": [
       "True"
      ]
     },
     "execution_count": 66,
     "metadata": {},
     "output_type": "execute_result"
    }
   ],
   "source": [
    "s is not s1"
   ]
  },
  {
   "cell_type": "code",
   "execution_count": 68,
   "id": "0c06dc27",
   "metadata": {},
   "outputs": [
    {
     "data": {
      "text/plain": [
       "3"
      ]
     },
     "execution_count": 68,
     "metadata": {},
     "output_type": "execute_result"
    }
   ],
   "source": [
    "len(s)"
   ]
  },
  {
   "cell_type": "code",
   "execution_count": 69,
   "id": "4745cffb",
   "metadata": {},
   "outputs": [],
   "source": [
    "a=\"25487\""
   ]
  },
  {
   "cell_type": "code",
   "execution_count": 70,
   "id": "77e99459",
   "metadata": {},
   "outputs": [
    {
     "data": {
      "text/plain": [
       "str"
      ]
     },
     "execution_count": 70,
     "metadata": {},
     "output_type": "execute_result"
    }
   ],
   "source": [
    "type(a)"
   ]
  },
  {
   "cell_type": "code",
   "execution_count": 71,
   "id": "02c77e6c",
   "metadata": {},
   "outputs": [
    {
     "data": {
      "text/plain": [
       "25487"
      ]
     },
     "execution_count": 71,
     "metadata": {},
     "output_type": "execute_result"
    }
   ],
   "source": [
    "int(a)"
   ]
  },
  {
   "cell_type": "code",
   "execution_count": 73,
   "id": "b915c0e1",
   "metadata": {},
   "outputs": [
    {
     "data": {
      "text/plain": [
       "int"
      ]
     },
     "execution_count": 73,
     "metadata": {},
     "output_type": "execute_result"
    }
   ],
   "source": [
    "type(int(a))"
   ]
  },
  {
   "cell_type": "code",
   "execution_count": null,
   "id": "7495b118",
   "metadata": {},
   "outputs": [],
   "source": []
  }
 ],
 "metadata": {
  "kernelspec": {
   "display_name": "Python 3 (ipykernel)",
   "language": "python",
   "name": "python3"
  },
  "language_info": {
   "codemirror_mode": {
    "name": "ipython",
    "version": 3
   },
   "file_extension": ".py",
   "mimetype": "text/x-python",
   "name": "python",
   "nbconvert_exporter": "python",
   "pygments_lexer": "ipython3",
   "version": "3.9.12"
  }
 },
 "nbformat": 4,
 "nbformat_minor": 5
}
