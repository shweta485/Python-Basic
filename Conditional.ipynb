{
 "cells": [
  {
   "cell_type": "markdown",
   "id": "7a05e488",
   "metadata": {},
   "source": [
    "# conditional transfer / loop statement"
   ]
  },
  {
   "cell_type": "markdown",
   "id": "0c6259ec",
   "metadata": {},
   "source": [
    "# if,if else,if elif,else"
   ]
  },
  {
   "cell_type": "code",
   "execution_count": 1,
   "id": "f4de0d8a",
   "metadata": {},
   "outputs": [
    {
     "name": "stdout",
     "output_type": "stream",
     "text": [
      "a is positive number\n"
     ]
    }
   ],
   "source": [
    "a = 10\n",
    "if a>0:\n",
    "    print(\"a is positive number\")"
   ]
  },
  {
   "cell_type": "code",
   "execution_count": 2,
   "id": "c2f5e3c1",
   "metadata": {},
   "outputs": [
    {
     "name": "stdout",
     "output_type": "stream",
     "text": [
      "A is not a positive number\n"
     ]
    }
   ],
   "source": [
    "a = -15\n",
    "if a>0:\n",
    "    print(\"A is positive number\")\n",
    "else:\n",
    "    print(\"A is not a positive number\")"
   ]
  },
  {
   "cell_type": "code",
   "execution_count": 6,
   "id": "a7fa530a",
   "metadata": {},
   "outputs": [
    {
     "name": "stdout",
     "output_type": "stream",
     "text": [
      "A is zero\n"
     ]
    }
   ],
   "source": [
    "a = 0\n",
    "if a>0:\n",
    "    print(\"A is positive number\")\n",
    "elif a == 0:\n",
    "    print(\"A is zero\")\n",
    "else:\n",
    "    print(\"A is not a positive number\")"
   ]
  },
  {
   "cell_type": "code",
   "execution_count": 33,
   "id": "d20eedae",
   "metadata": {},
   "outputs": [
    {
     "name": "stdout",
     "output_type": "stream",
     "text": [
      "Enter a number : 45\n",
      "A is positive number\n"
     ]
    }
   ],
   "source": [
    "a = int(input(\"Enter a number : \"))\n",
    "if a > 0:\n",
    "    print(\"A is positive number\")\n",
    "elif a == 0:\n",
    "    print(\"A is zero\")\n",
    "else:\n",
    "    print(\"A is not a positive number\")"
   ]
  },
  {
   "cell_type": "code",
   "execution_count": 26,
   "id": "8ec2477f",
   "metadata": {},
   "outputs": [],
   "source": [
    "positive_numbers = []\n",
    "negative_numbers = []"
   ]
  },
  {
   "cell_type": "code",
   "execution_count": 29,
   "id": "ecf0e3d9",
   "metadata": {},
   "outputs": [
    {
     "name": "stdout",
     "output_type": "stream",
     "text": [
      "Enter a number : -45\n",
      "A is not a positive number\n"
     ]
    }
   ],
   "source": [
    "a = int(input(\"Enter a number : \"))\n",
    "if a > 0:\n",
    "    positive_numbers.append(a)\n",
    "    print(\"A is positive number\")\n",
    "elif a==0:\n",
    "    print(\"A is zero\")\n",
    "else:\n",
    "    negative_numbers.append(a)\n",
    "    print(\"A is not a positive number\")"
   ]
  },
  {
   "cell_type": "code",
   "execution_count": 31,
   "id": "fc02ac5e",
   "metadata": {},
   "outputs": [
    {
     "data": {
      "text/plain": [
       "[45, 14]"
      ]
     },
     "execution_count": 31,
     "metadata": {},
     "output_type": "execute_result"
    }
   ],
   "source": [
    "positive_numbers"
   ]
  },
  {
   "cell_type": "code",
   "execution_count": 32,
   "id": "c5c866d0",
   "metadata": {},
   "outputs": [
    {
     "data": {
      "text/plain": [
       "[-45]"
      ]
     },
     "execution_count": 32,
     "metadata": {},
     "output_type": "execute_result"
    }
   ],
   "source": [
    "negative_numbers"
   ]
  },
  {
   "cell_type": "code",
   "execution_count": 34,
   "id": "6cc7fac1",
   "metadata": {},
   "outputs": [
    {
     "name": "stdout",
     "output_type": "stream",
     "text": [
      "Enter a number :11\n",
      "Enter a number :222\n",
      "B is greater\n"
     ]
    }
   ],
   "source": [
    "a = int(input(\"Enter a number :\"))\n",
    "b = int(input(\"Enter a number :\"))\n",
    "if a>b:\n",
    "    print(\"A is greater\")\n",
    "else:\n",
    "    print(\"B is greater\")"
   ]
  },
  {
   "cell_type": "code",
   "execution_count": 4,
   "id": "a7ae064d",
   "metadata": {},
   "outputs": [
    {
     "name": "stdout",
     "output_type": "stream",
     "text": [
      "Enter a number :5\n",
      "This is an odd number\n"
     ]
    }
   ],
   "source": [
    "a = int(input(\"Enter a number :\"))\n",
    "if a % 2 != 0:\n",
    "   print(\"This is an odd number\")\n",
    "else:\n",
    "    print(\"This is an even number\")"
   ]
  },
  {
   "cell_type": "code",
   "execution_count": 5,
   "id": "bb5684e2",
   "metadata": {},
   "outputs": [
    {
     "name": "stdout",
     "output_type": "stream",
     "text": [
      "A is greater\n"
     ]
    }
   ],
   "source": [
    "a = 12\n",
    "b = 11\n",
    "if a>b: print(\"A is greater\")"
   ]
  },
  {
   "cell_type": "code",
   "execution_count": 6,
   "id": "7518e549",
   "metadata": {},
   "outputs": [
    {
     "name": "stdout",
     "output_type": "stream",
     "text": [
      "A is greater\n"
     ]
    }
   ],
   "source": [
    "print(\"A is greater\") if a>b else print(\"B is greater\")"
   ]
  },
  {
   "cell_type": "code",
   "execution_count": 14,
   "id": "30e999af",
   "metadata": {},
   "outputs": [
    {
     "name": "stdout",
     "output_type": "stream",
     "text": [
      "A is negative\n"
     ]
    }
   ],
   "source": [
    "a = -14\n",
    "if a>=0:\n",
    "    if a>0:\n",
    "        print(\"A is greater\")\n",
    "    else:\n",
    "        print(\"A is zero\")\n",
    "else:\n",
    "    print(\"A is negative\")"
   ]
  },
  {
   "cell_type": "markdown",
   "id": "e88cb215",
   "metadata": {},
   "source": [
    "# pass = use for if else"
   ]
  },
  {
   "cell_type": "markdown",
   "id": "04fd104e",
   "metadata": {},
   "source": [
    "# continue,break = only use for loop"
   ]
  },
  {
   "cell_type": "code",
   "execution_count": 15,
   "id": "170ad51c",
   "metadata": {},
   "outputs": [],
   "source": [
    "a = 100\n",
    "b = 13\n",
    "if a>b:\n",
    "    pass"
   ]
  },
  {
   "cell_type": "code",
   "execution_count": 21,
   "id": "f39adffb",
   "metadata": {},
   "outputs": [],
   "source": [
    "l = [1,2,3,4]"
   ]
  },
  {
   "cell_type": "code",
   "execution_count": 24,
   "id": "580ddf2a",
   "metadata": {},
   "outputs": [
    {
     "data": {
      "text/plain": [
       "True"
      ]
     },
     "execution_count": 24,
     "metadata": {},
     "output_type": "execute_result"
    }
   ],
   "source": [
    " 4 in l"
   ]
  },
  {
   "cell_type": "code",
   "execution_count": 28,
   "id": "3b9b6795",
   "metadata": {},
   "outputs": [
    {
     "name": "stdout",
     "output_type": "stream",
     "text": [
      "print this\n"
     ]
    }
   ],
   "source": [
    " if 4 in l:\n",
    "    print(\"print this\")"
   ]
  },
  {
   "cell_type": "code",
   "execution_count": 31,
   "id": "ea7f2267",
   "metadata": {},
   "outputs": [
    {
     "name": "stdout",
     "output_type": "stream",
     "text": [
      "try again\n"
     ]
    }
   ],
   "source": [
    "if 6 in l:\n",
    "    print(\"add a number\")\n",
    "elif 9 in l:\n",
    "    print(\"subtract a number\")\n",
    "else:\n",
    "    print(\"try again\")"
   ]
  },
  {
   "cell_type": "code",
   "execution_count": 35,
   "id": "2e6d5d65",
   "metadata": {},
   "outputs": [
    {
     "name": "stdout",
     "output_type": "stream",
     "text": [
      "Enter a number :0\n",
      "A is smaller\n"
     ]
    }
   ],
   "source": [
    "a = int(input(\"Enter a number :\"))\n",
    "if a>10:\n",
    "    print(\"A is greater than 10\")\n",
    "    if a>20:\n",
    "        print(\"A is greater than 20\")\n",
    "        if a>30:\n",
    "            print(\"A is greater than 30\")\n",
    "        else:\n",
    "            print(\"A is greater than 20 but less than 30\")\n",
    "    else:\n",
    "        print(\"A is greater than 10 but less than 20\")\n",
    "else:\n",
    "    print(\"A is smaller\")"
   ]
  },
  {
   "cell_type": "code",
   "execution_count": 46,
   "id": "849c99cb",
   "metadata": {},
   "outputs": [
    {
     "name": "stdout",
     "output_type": "stream",
     "text": [
      "Enter a username:sam\n",
      "user verified\n"
     ]
    }
   ],
   "source": [
    "username =  input(\"Enter a username:\")\n",
    "if username == 'sam':\n",
    "    print(\"user verified\")\n",
    "else:\n",
    "    print(\"username is incorrect\")"
   ]
  },
  {
   "cell_type": "code",
   "execution_count": 45,
   "id": "9dd13f6f",
   "metadata": {},
   "outputs": [
    {
     "name": "stdout",
     "output_type": "stream",
     "text": [
      "Enter a username:sam\n",
      "Enter a password:11111\n",
      "username/password is incorrect\n"
     ]
    }
   ],
   "source": [
    "username =  input(\"Enter a username:\")\n",
    "password =  input(\"Enter a password:\")\n",
    "username = username.lower()\n",
    "if username == \"Sam\" and password == \"12345\":\n",
    "    print(\"logged In\")\n",
    "else:\n",
    "    print(\"username/password is incorrect\")"
   ]
  },
  {
   "cell_type": "code",
   "execution_count": 48,
   "id": "f2c8d73b",
   "metadata": {},
   "outputs": [
    {
     "name": "stdout",
     "output_type": "stream",
     "text": [
      "This is string\n"
     ]
    }
   ],
   "source": [
    "a = \"133\"\n",
    "if type(a) == int or type(a) == float:\n",
    "    print(\"The input is number\")\n",
    "elif type(a) == str:\n",
    "    print(\"This is string\")\n",
    "else:\n",
    "    print(\"input is invalid\")"
   ]
  },
  {
   "cell_type": "code",
   "execution_count": 49,
   "id": "2b53e5ac",
   "metadata": {},
   "outputs": [
    {
     "name": "stdout",
     "output_type": "stream",
     "text": [
      "Enter your phone number1234567890\n",
      "number is verified\n"
     ]
    }
   ],
   "source": [
    "a = input(\"Enter your phone number\")\n",
    "if len(a) == 10:\n",
    "    print(\"number is verified\")\n",
    "else:\n",
    "    print(\"please enter a valid phone number\")"
   ]
  },
  {
   "cell_type": "code",
   "execution_count": null,
   "id": "c99e1f95",
   "metadata": {},
   "outputs": [],
   "source": []
  }
 ],
 "metadata": {
  "kernelspec": {
   "display_name": "Python 3 (ipykernel)",
   "language": "python",
   "name": "python3"
  },
  "language_info": {
   "codemirror_mode": {
    "name": "ipython",
    "version": 3
   },
   "file_extension": ".py",
   "mimetype": "text/x-python",
   "name": "python",
   "nbconvert_exporter": "python",
   "pygments_lexer": "ipython3",
   "version": "3.9.12"
  }
 },
 "nbformat": 4,
 "nbformat_minor": 5
}
