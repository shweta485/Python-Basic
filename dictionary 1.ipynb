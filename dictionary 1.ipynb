{
 "cells": [
  {
   "cell_type": "code",
   "execution_count": 1,
   "id": "6e8c05a1",
   "metadata": {},
   "outputs": [],
   "source": [
    "d={}"
   ]
  },
  {
   "cell_type": "code",
   "execution_count": 2,
   "id": "1ff767cb",
   "metadata": {},
   "outputs": [
    {
     "data": {
      "text/plain": [
       "dict"
      ]
     },
     "execution_count": 2,
     "metadata": {},
     "output_type": "execute_result"
    }
   ],
   "source": [
    "type(d)"
   ]
  },
  {
   "cell_type": "code",
   "execution_count": 3,
   "id": "36a652a9",
   "metadata": {},
   "outputs": [],
   "source": [
    "d={\"key\":\"value\",\"name\":\"samir\",\"age\":15,\"email\":\"shraddhagmail.com\",\"salary\":\"25\"}"
   ]
  },
  {
   "cell_type": "code",
   "execution_count": 4,
   "id": "145bd05a",
   "metadata": {},
   "outputs": [
    {
     "data": {
      "text/plain": [
       "{'key': 'value',\n",
       " 'name': 'samir',\n",
       " 'age': 15,\n",
       " 'email': 'shraddhagmail.com',\n",
       " 'salary': '25'}"
      ]
     },
     "execution_count": 4,
     "metadata": {},
     "output_type": "execute_result"
    }
   ],
   "source": [
    "d"
   ]
  },
  {
   "cell_type": "code",
   "execution_count": 5,
   "id": "b887d9f4",
   "metadata": {},
   "outputs": [
    {
     "data": {
      "text/plain": [
       "'samir'"
      ]
     },
     "execution_count": 5,
     "metadata": {},
     "output_type": "execute_result"
    }
   ],
   "source": [
    "d['name']"
   ]
  },
  {
   "cell_type": "code",
   "execution_count": 6,
   "id": "f4097706",
   "metadata": {},
   "outputs": [],
   "source": [
    "d[\"name\"]=\"tejas\""
   ]
  },
  {
   "cell_type": "code",
   "execution_count": 7,
   "id": "3000a730",
   "metadata": {},
   "outputs": [
    {
     "data": {
      "text/plain": [
       "{'key': 'value',\n",
       " 'name': 'tejas',\n",
       " 'age': 15,\n",
       " 'email': 'shraddhagmail.com',\n",
       " 'salary': '25'}"
      ]
     },
     "execution_count": 7,
     "metadata": {},
     "output_type": "execute_result"
    }
   ],
   "source": [
    "d"
   ]
  },
  {
   "cell_type": "code",
   "execution_count": 8,
   "id": "54c30021",
   "metadata": {},
   "outputs": [],
   "source": [
    "d[\"phone\"]=8483857692"
   ]
  },
  {
   "cell_type": "code",
   "execution_count": 9,
   "id": "3e358471",
   "metadata": {},
   "outputs": [
    {
     "data": {
      "text/plain": [
       "{'key': 'value',\n",
       " 'name': 'tejas',\n",
       " 'age': 15,\n",
       " 'email': 'shraddhagmail.com',\n",
       " 'salary': '25',\n",
       " 'phone': 8483857692}"
      ]
     },
     "execution_count": 9,
     "metadata": {},
     "output_type": "execute_result"
    }
   ],
   "source": [
    "d"
   ]
  },
  {
   "cell_type": "code",
   "execution_count": 10,
   "id": "637892b6",
   "metadata": {},
   "outputs": [
    {
     "data": {
      "text/plain": [
       "'tejas'"
      ]
     },
     "execution_count": 10,
     "metadata": {},
     "output_type": "execute_result"
    }
   ],
   "source": [
    "d.get(\"name\")"
   ]
  },
  {
   "cell_type": "code",
   "execution_count": 11,
   "id": "ee1bef07",
   "metadata": {},
   "outputs": [
    {
     "data": {
      "text/plain": [
       "False"
      ]
     },
     "execution_count": 11,
     "metadata": {},
     "output_type": "execute_result"
    }
   ],
   "source": [
    "25 in d"
   ]
  },
  {
   "cell_type": "code",
   "execution_count": 12,
   "id": "f3be6dd4",
   "metadata": {},
   "outputs": [
    {
     "data": {
      "text/plain": [
       "True"
      ]
     },
     "execution_count": 12,
     "metadata": {},
     "output_type": "execute_result"
    }
   ],
   "source": [
    "\"tejas\"in d[\"name\"]"
   ]
  },
  {
   "cell_type": "code",
   "execution_count": 14,
   "id": "1d7b6203",
   "metadata": {},
   "outputs": [],
   "source": [
    "d={\"key\":\"value\",\"name\":\"samir\",\"age\":15,\"email\":\"shraddhagmail.com\",\"skills\":[\"python\",\"html\",\"css\"]}"
   ]
  },
  {
   "cell_type": "code",
   "execution_count": 15,
   "id": "fcec752a",
   "metadata": {},
   "outputs": [
    {
     "data": {
      "text/plain": [
       "'samir'"
      ]
     },
     "execution_count": 15,
     "metadata": {},
     "output_type": "execute_result"
    }
   ],
   "source": [
    "d[\"name\"]"
   ]
  },
  {
   "cell_type": "code",
   "execution_count": 16,
   "id": "3cdc8b33",
   "metadata": {},
   "outputs": [
    {
     "data": {
      "text/plain": [
       "['python', 'html', 'css']"
      ]
     },
     "execution_count": 16,
     "metadata": {},
     "output_type": "execute_result"
    }
   ],
   "source": [
    "d[\"skills\"]"
   ]
  },
  {
   "cell_type": "code",
   "execution_count": 17,
   "id": "44090512",
   "metadata": {},
   "outputs": [],
   "source": [
    "d={\"key\":\"value\",\"name\":\"samir\",\"age\":15,\"email\":\"shraddhagmail.com\",\"skills\":{\"ds\":{\"python\"},\"web\":\"css\"}}"
   ]
  },
  {
   "cell_type": "code",
   "execution_count": 18,
   "id": "b899af19",
   "metadata": {},
   "outputs": [
    {
     "data": {
      "text/plain": [
       "{'python'}"
      ]
     },
     "execution_count": 18,
     "metadata": {},
     "output_type": "execute_result"
    }
   ],
   "source": [
    "d[\"skills\"][\"ds\"]"
   ]
  },
  {
   "cell_type": "code",
   "execution_count": 19,
   "id": "2dc39031",
   "metadata": {},
   "outputs": [],
   "source": [
    "del d[\"skills\"]"
   ]
  },
  {
   "cell_type": "code",
   "execution_count": 20,
   "id": "7d3592ef",
   "metadata": {},
   "outputs": [
    {
     "data": {
      "text/plain": [
       "{'key': 'value', 'name': 'samir', 'age': 15, 'email': 'shraddhagmail.com'}"
      ]
     },
     "execution_count": 20,
     "metadata": {},
     "output_type": "execute_result"
    }
   ],
   "source": [
    "d"
   ]
  },
  {
   "cell_type": "code",
   "execution_count": 21,
   "id": "c1dac4eb",
   "metadata": {},
   "outputs": [
    {
     "data": {
      "text/plain": [
       "'value'"
      ]
     },
     "execution_count": 21,
     "metadata": {},
     "output_type": "execute_result"
    }
   ],
   "source": [
    "d.pop(\"key\")"
   ]
  },
  {
   "cell_type": "code",
   "execution_count": 22,
   "id": "41d2f56d",
   "metadata": {},
   "outputs": [
    {
     "data": {
      "text/plain": [
       "{'name': 'samir', 'age': 15, 'email': 'shraddhagmail.com'}"
      ]
     },
     "execution_count": 22,
     "metadata": {},
     "output_type": "execute_result"
    }
   ],
   "source": [
    "d"
   ]
  },
  {
   "cell_type": "code",
   "execution_count": 23,
   "id": "d1370671",
   "metadata": {},
   "outputs": [],
   "source": [
    "d.clear()"
   ]
  },
  {
   "cell_type": "code",
   "execution_count": 24,
   "id": "06ea826c",
   "metadata": {},
   "outputs": [
    {
     "data": {
      "text/plain": [
       "{}"
      ]
     },
     "execution_count": 24,
     "metadata": {},
     "output_type": "execute_result"
    }
   ],
   "source": [
    "d"
   ]
  },
  {
   "cell_type": "code",
   "execution_count": 25,
   "id": "3baac409",
   "metadata": {},
   "outputs": [],
   "source": [
    "d={\"key\":\"value\",\"name\":\"samir\",\"age\":15,\"email\":\"shraddhagmail.com\",\"skills\":[\"python\",\"html\",\"css\"]}"
   ]
  },
  {
   "cell_type": "code",
   "execution_count": 26,
   "id": "cff1f0cd",
   "metadata": {},
   "outputs": [
    {
     "data": {
      "text/plain": [
       "dict_items([('key', 'value'), ('name', 'samir'), ('age', 15), ('email', 'shraddhagmail.com'), ('skills', ['python', 'html', 'css'])])"
      ]
     },
     "execution_count": 26,
     "metadata": {},
     "output_type": "execute_result"
    }
   ],
   "source": [
    "d.items()"
   ]
  },
  {
   "cell_type": "code",
   "execution_count": 28,
   "id": "2c7c31e2",
   "metadata": {},
   "outputs": [
    {
     "ename": "AttributeError",
     "evalue": "'dict' object has no attribute 'popitems'",
     "output_type": "error",
     "traceback": [
      "\u001b[1;31m---------------------------------------------------------------------------\u001b[0m",
      "\u001b[1;31mAttributeError\u001b[0m                            Traceback (most recent call last)",
      "Input \u001b[1;32mIn [28]\u001b[0m, in \u001b[0;36m<cell line: 1>\u001b[1;34m()\u001b[0m\n\u001b[1;32m----> 1\u001b[0m \u001b[43md\u001b[49m\u001b[38;5;241;43m.\u001b[39;49m\u001b[43mpopitems\u001b[49m()\n",
      "\u001b[1;31mAttributeError\u001b[0m: 'dict' object has no attribute 'popitems'"
     ]
    }
   ],
   "source": [
    "d.popitems()"
   ]
  },
  {
   "cell_type": "code",
   "execution_count": null,
   "id": "19b46182",
   "metadata": {},
   "outputs": [],
   "source": []
  }
 ],
 "metadata": {
  "kernelspec": {
   "display_name": "Python 3 (ipykernel)",
   "language": "python",
   "name": "python3"
  },
  "language_info": {
   "codemirror_mode": {
    "name": "ipython",
    "version": 3
   },
   "file_extension": ".py",
   "mimetype": "text/x-python",
   "name": "python",
   "nbconvert_exporter": "python",
   "pygments_lexer": "ipython3",
   "version": "3.9.12"
  }
 },
 "nbformat": 4,
 "nbformat_minor": 5
}
