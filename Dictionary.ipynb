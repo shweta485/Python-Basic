{
 "cells": [
  {
   "cell_type": "code",
   "execution_count": 1,
   "id": "c3a44cb6",
   "metadata": {},
   "outputs": [],
   "source": [
    "d = {}"
   ]
  },
  {
   "cell_type": "code",
   "execution_count": 2,
   "id": "4ce7389f",
   "metadata": {},
   "outputs": [
    {
     "data": {
      "text/plain": [
       "dict"
      ]
     },
     "execution_count": 2,
     "metadata": {},
     "output_type": "execute_result"
    }
   ],
   "source": [
    "type(d)"
   ]
  },
  {
   "cell_type": "code",
   "execution_count": 3,
   "id": "4946a181",
   "metadata": {},
   "outputs": [],
   "source": [
    "d = {'key':'value','name':'samir','age':15,'email':'thoratshweta08.com'}"
   ]
  },
  {
   "cell_type": "code",
   "execution_count": 4,
   "id": "b6e047d9",
   "metadata": {},
   "outputs": [
    {
     "data": {
      "text/plain": [
       "{'key': 'value', 'name': 'samir', 'age': 15, 'email': 'thoratshweta08.com'}"
      ]
     },
     "execution_count": 4,
     "metadata": {},
     "output_type": "execute_result"
    }
   ],
   "source": [
    "d"
   ]
  },
  {
   "cell_type": "code",
   "execution_count": 5,
   "id": "f40107ec",
   "metadata": {},
   "outputs": [
    {
     "data": {
      "text/plain": [
       "'samir'"
      ]
     },
     "execution_count": 5,
     "metadata": {},
     "output_type": "execute_result"
    }
   ],
   "source": [
    "d['name']"
   ]
  },
  {
   "cell_type": "code",
   "execution_count": 6,
   "id": "3131bcf7",
   "metadata": {},
   "outputs": [
    {
     "ename": "KeyError",
     "evalue": "'name1'",
     "output_type": "error",
     "traceback": [
      "\u001b[1;31m---------------------------------------------------------------------------\u001b[0m",
      "\u001b[1;31mKeyError\u001b[0m                                  Traceback (most recent call last)",
      "Input \u001b[1;32mIn [6]\u001b[0m, in \u001b[0;36m<cell line: 1>\u001b[1;34m()\u001b[0m\n\u001b[1;32m----> 1\u001b[0m \u001b[43md\u001b[49m\u001b[43m[\u001b[49m\u001b[38;5;124;43m'\u001b[39;49m\u001b[38;5;124;43mname1\u001b[39;49m\u001b[38;5;124;43m'\u001b[39;49m\u001b[43m]\u001b[49m\n",
      "\u001b[1;31mKeyError\u001b[0m: 'name1'"
     ]
    }
   ],
   "source": [
    "d['name1']"
   ]
  },
  {
   "cell_type": "code",
   "execution_count": 7,
   "id": "3c595ed7",
   "metadata": {},
   "outputs": [],
   "source": [
    "d['name']= 'tejas'"
   ]
  },
  {
   "cell_type": "code",
   "execution_count": 8,
   "id": "c4085a70",
   "metadata": {},
   "outputs": [
    {
     "data": {
      "text/plain": [
       "{'key': 'value', 'name': 'tejas', 'age': 15, 'email': 'thoratshweta08.com'}"
      ]
     },
     "execution_count": 8,
     "metadata": {},
     "output_type": "execute_result"
    }
   ],
   "source": [
    "d"
   ]
  },
  {
   "cell_type": "code",
   "execution_count": 9,
   "id": "540afab2",
   "metadata": {},
   "outputs": [],
   "source": [
    "d['phone']= 8080376170"
   ]
  },
  {
   "cell_type": "code",
   "execution_count": 10,
   "id": "97f1e28b",
   "metadata": {},
   "outputs": [
    {
     "data": {
      "text/plain": [
       "{'key': 'value',\n",
       " 'name': 'tejas',\n",
       " 'age': 15,\n",
       " 'email': 'thoratshweta08.com',\n",
       " 'phone': 8080376170}"
      ]
     },
     "execution_count": 10,
     "metadata": {},
     "output_type": "execute_result"
    }
   ],
   "source": [
    "d"
   ]
  },
  {
   "cell_type": "code",
   "execution_count": 11,
   "id": "38304148",
   "metadata": {},
   "outputs": [
    {
     "data": {
      "text/plain": [
       "'tejas'"
      ]
     },
     "execution_count": 11,
     "metadata": {},
     "output_type": "execute_result"
    }
   ],
   "source": [
    "d.get('name')"
   ]
  },
  {
   "cell_type": "code",
   "execution_count": 12,
   "id": "5dd7e6c2",
   "metadata": {},
   "outputs": [],
   "source": [
    "d.get('name1')"
   ]
  },
  {
   "cell_type": "code",
   "execution_count": null,
   "id": "d94a0ace",
   "metadata": {},
   "outputs": [],
   "source": []
  },
  {
   "cell_type": "code",
   "execution_count": 13,
   "id": "38c4f6d0",
   "metadata": {},
   "outputs": [
    {
     "data": {
      "text/plain": [
       "False"
      ]
     },
     "execution_count": 13,
     "metadata": {},
     "output_type": "execute_result"
    }
   ],
   "source": [
    "15 in d"
   ]
  },
  {
   "cell_type": "code",
   "execution_count": 14,
   "id": "253fef34",
   "metadata": {},
   "outputs": [
    {
     "data": {
      "text/plain": [
       "True"
      ]
     },
     "execution_count": 14,
     "metadata": {},
     "output_type": "execute_result"
    }
   ],
   "source": [
    "'tejas'in d ['name']"
   ]
  },
  {
   "cell_type": "code",
   "execution_count": 15,
   "id": "9979adb1",
   "metadata": {},
   "outputs": [
    {
     "ename": "TypeError",
     "evalue": "argument of type 'int' is not iterable",
     "output_type": "error",
     "traceback": [
      "\u001b[1;31m---------------------------------------------------------------------------\u001b[0m",
      "\u001b[1;31mTypeError\u001b[0m                                 Traceback (most recent call last)",
      "Input \u001b[1;32mIn [15]\u001b[0m, in \u001b[0;36m<cell line: 1>\u001b[1;34m()\u001b[0m\n\u001b[1;32m----> 1\u001b[0m \u001b[38;5;241;43m15\u001b[39;49m\u001b[43m \u001b[49m\u001b[38;5;129;43;01min\u001b[39;49;00m\u001b[43m \u001b[49m\u001b[43md\u001b[49m\u001b[43m \u001b[49m\u001b[43m[\u001b[49m\u001b[38;5;124;43m'\u001b[39;49m\u001b[38;5;124;43mage\u001b[39;49m\u001b[38;5;124;43m'\u001b[39;49m\u001b[43m]\u001b[49m\n",
      "\u001b[1;31mTypeError\u001b[0m: argument of type 'int' is not iterable"
     ]
    }
   ],
   "source": [
    "15 in d ['age']"
   ]
  },
  {
   "cell_type": "code",
   "execution_count": 16,
   "id": "d5ecdcad",
   "metadata": {},
   "outputs": [],
   "source": [
    "d = {'key':'value','name':'samir','email': 'thoratshweta08.com','skills':{'python','html','css'}}"
   ]
  },
  {
   "cell_type": "code",
   "execution_count": 17,
   "id": "ba9e6dcc",
   "metadata": {},
   "outputs": [
    {
     "data": {
      "text/plain": [
       "'samir'"
      ]
     },
     "execution_count": 17,
     "metadata": {},
     "output_type": "execute_result"
    }
   ],
   "source": [
    "d['name']"
   ]
  },
  {
   "cell_type": "code",
   "execution_count": 18,
   "id": "f616fd7c",
   "metadata": {},
   "outputs": [
    {
     "data": {
      "text/plain": [
       "{'css', 'html', 'python'}"
      ]
     },
     "execution_count": 18,
     "metadata": {},
     "output_type": "execute_result"
    }
   ],
   "source": [
    "d['skills']"
   ]
  },
  {
   "cell_type": "code",
   "execution_count": 19,
   "id": "edd1410a",
   "metadata": {},
   "outputs": [],
   "source": [
    "d1={15:'sas'}"
   ]
  },
  {
   "cell_type": "code",
   "execution_count": 20,
   "id": "0b5d76fa",
   "metadata": {},
   "outputs": [],
   "source": [
    "d = {'key':'value','name':'samir','email': 'thoratshweta08.com','skills':{'ds':'python','web':'css'}}"
   ]
  },
  {
   "cell_type": "code",
   "execution_count": 21,
   "id": "6478d73d",
   "metadata": {},
   "outputs": [
    {
     "data": {
      "text/plain": [
       "'python'"
      ]
     },
     "execution_count": 21,
     "metadata": {},
     "output_type": "execute_result"
    }
   ],
   "source": [
    "d['skills']['ds']"
   ]
  },
  {
   "cell_type": "code",
   "execution_count": 22,
   "id": "2b2d5015",
   "metadata": {},
   "outputs": [
    {
     "data": {
      "text/plain": [
       "'css'"
      ]
     },
     "execution_count": 22,
     "metadata": {},
     "output_type": "execute_result"
    }
   ],
   "source": [
    "d['skills']['web']"
   ]
  },
  {
   "cell_type": "code",
   "execution_count": 23,
   "id": "7db9d20d",
   "metadata": {},
   "outputs": [],
   "source": [
    "del d['skills']"
   ]
  },
  {
   "cell_type": "code",
   "execution_count": 24,
   "id": "de2f33cb",
   "metadata": {},
   "outputs": [
    {
     "data": {
      "text/plain": [
       "{'key': 'value', 'name': 'samir', 'email': 'thoratshweta08.com'}"
      ]
     },
     "execution_count": 24,
     "metadata": {},
     "output_type": "execute_result"
    }
   ],
   "source": [
    "d"
   ]
  },
  {
   "cell_type": "code",
   "execution_count": 25,
   "id": "5a4b1556",
   "metadata": {},
   "outputs": [
    {
     "data": {
      "text/plain": [
       "'value'"
      ]
     },
     "execution_count": 25,
     "metadata": {},
     "output_type": "execute_result"
    }
   ],
   "source": [
    "d.pop('key')"
   ]
  },
  {
   "cell_type": "code",
   "execution_count": 26,
   "id": "357d2208",
   "metadata": {},
   "outputs": [
    {
     "data": {
      "text/plain": [
       "{'name': 'samir', 'email': 'thoratshweta08.com'}"
      ]
     },
     "execution_count": 26,
     "metadata": {},
     "output_type": "execute_result"
    }
   ],
   "source": [
    "d"
   ]
  },
  {
   "cell_type": "code",
   "execution_count": 27,
   "id": "e964de39",
   "metadata": {},
   "outputs": [],
   "source": [
    "d = {'key':'value','name':'samir','email': 'thoratshweta08.com','skills':{'ds':'python','web':'css'}}"
   ]
  },
  {
   "cell_type": "code",
   "execution_count": 32,
   "id": "dfba76ee",
   "metadata": {},
   "outputs": [
    {
     "data": {
      "text/plain": [
       "<function dict.keys>"
      ]
     },
     "execution_count": 32,
     "metadata": {},
     "output_type": "execute_result"
    }
   ],
   "source": [
    "d.keys"
   ]
  },
  {
   "cell_type": "code",
   "execution_count": 34,
   "id": "96f1dcef",
   "metadata": {},
   "outputs": [
    {
     "ename": "AttributeError",
     "evalue": "'dict' object has no attribute 'value'",
     "output_type": "error",
     "traceback": [
      "\u001b[1;31m---------------------------------------------------------------------------\u001b[0m",
      "\u001b[1;31mAttributeError\u001b[0m                            Traceback (most recent call last)",
      "Input \u001b[1;32mIn [34]\u001b[0m, in \u001b[0;36m<cell line: 1>\u001b[1;34m()\u001b[0m\n\u001b[1;32m----> 1\u001b[0m \u001b[43md\u001b[49m\u001b[38;5;241;43m.\u001b[39;49m\u001b[43mvalue\u001b[49m()\n",
      "\u001b[1;31mAttributeError\u001b[0m: 'dict' object has no attribute 'value'"
     ]
    }
   ],
   "source": [
    "d.value()"
   ]
  },
  {
   "cell_type": "code",
   "execution_count": 35,
   "id": "15e43086",
   "metadata": {},
   "outputs": [
    {
     "ename": "NameError",
     "evalue": "name 'value' is not defined",
     "output_type": "error",
     "traceback": [
      "\u001b[1;31m---------------------------------------------------------------------------\u001b[0m",
      "\u001b[1;31mNameError\u001b[0m                                 Traceback (most recent call last)",
      "Input \u001b[1;32mIn [35]\u001b[0m, in \u001b[0;36m<cell line: 1>\u001b[1;34m()\u001b[0m\n\u001b[1;32m----> 1\u001b[0m d\u001b[38;5;241m=\u001b[39m{[\u001b[38;5;241m1\u001b[39m,\u001b[38;5;241m2\u001b[39m,\u001b[38;5;241m3\u001b[39m]:\u001b[43mvalue\u001b[49m}\n",
      "\u001b[1;31mNameError\u001b[0m: name 'value' is not defined"
     ]
    }
   ],
   "source": [
    "d={[1,2,3]:value}"
   ]
  },
  {
   "cell_type": "code",
   "execution_count": 37,
   "id": "6e4a26e4",
   "metadata": {},
   "outputs": [],
   "source": [
    "d={(1,2,3):'value'}"
   ]
  },
  {
   "cell_type": "code",
   "execution_count": null,
   "id": "1c147f12",
   "metadata": {},
   "outputs": [],
   "source": []
  },
  {
   "cell_type": "code",
   "execution_count": 38,
   "id": "62ca2594",
   "metadata": {},
   "outputs": [
    {
     "ename": "TypeError",
     "evalue": "unhashable type: 'set'",
     "output_type": "error",
     "traceback": [
      "\u001b[1;31m---------------------------------------------------------------------------\u001b[0m",
      "\u001b[1;31mTypeError\u001b[0m                                 Traceback (most recent call last)",
      "Input \u001b[1;32mIn [38]\u001b[0m, in \u001b[0;36m<cell line: 1>\u001b[1;34m()\u001b[0m\n\u001b[1;32m----> 1\u001b[0m d\u001b[38;5;241m=\u001b[39m{{\u001b[38;5;241m1\u001b[39m,\u001b[38;5;241m2\u001b[39m,\u001b[38;5;241m3\u001b[39m}:\u001b[38;5;124m'\u001b[39m\u001b[38;5;124mvalue\u001b[39m\u001b[38;5;124m'\u001b[39m}\n",
      "\u001b[1;31mTypeError\u001b[0m: unhashable type: 'set'"
     ]
    }
   ],
   "source": [
    "d={{1,2,3}:'value'}"
   ]
  },
  {
   "cell_type": "code",
   "execution_count": 39,
   "id": "5ac16851",
   "metadata": {},
   "outputs": [],
   "source": [
    "d={(1,2,3):'value'}"
   ]
  },
  {
   "cell_type": "code",
   "execution_count": 40,
   "id": "07655af8",
   "metadata": {},
   "outputs": [],
   "source": [
    "d1={(1,2,3):'value'}"
   ]
  },
  {
   "cell_type": "code",
   "execution_count": 41,
   "id": "9b853675",
   "metadata": {},
   "outputs": [
    {
     "ename": "TypeError",
     "evalue": "unsupported operand type(s) for +: 'dict' and 'dict'",
     "output_type": "error",
     "traceback": [
      "\u001b[1;31m---------------------------------------------------------------------------\u001b[0m",
      "\u001b[1;31mTypeError\u001b[0m                                 Traceback (most recent call last)",
      "Input \u001b[1;32mIn [41]\u001b[0m, in \u001b[0;36m<cell line: 1>\u001b[1;34m()\u001b[0m\n\u001b[1;32m----> 1\u001b[0m \u001b[43md\u001b[49m\u001b[38;5;241;43m+\u001b[39;49m\u001b[43md1\u001b[49m\n",
      "\u001b[1;31mTypeError\u001b[0m: unsupported operand type(s) for +: 'dict' and 'dict'"
     ]
    }
   ],
   "source": [
    "d+d1"
   ]
  },
  {
   "cell_type": "code",
   "execution_count": 42,
   "id": "5bddae75",
   "metadata": {},
   "outputs": [],
   "source": [
    " d = {'key':'value','name':'samir','email': 'thoratshweta08.com','skills':{'ds':'python','web':'css'}}"
   ]
  },
  {
   "cell_type": "code",
   "execution_count": 43,
   "id": "2362a76a",
   "metadata": {},
   "outputs": [
    {
     "data": {
      "text/plain": [
       "dict_items([('key', 'value'), ('name', 'samir'), ('email', 'thoratshweta08.com'), ('skills', {'ds': 'python', 'web': 'css'})])"
      ]
     },
     "execution_count": 43,
     "metadata": {},
     "output_type": "execute_result"
    }
   ],
   "source": [
    "d.items()"
   ]
  },
  {
   "cell_type": "code",
   "execution_count": 44,
   "id": "0c701180",
   "metadata": {},
   "outputs": [
    {
     "data": {
      "text/plain": [
       "('skills', {'ds': 'python', 'web': 'css'})"
      ]
     },
     "execution_count": 44,
     "metadata": {},
     "output_type": "execute_result"
    }
   ],
   "source": [
    "d.popitem()"
   ]
  },
  {
   "cell_type": "code",
   "execution_count": null,
   "id": "7868b793",
   "metadata": {},
   "outputs": [],
   "source": []
  }
 ],
 "metadata": {
  "kernelspec": {
   "display_name": "Python 3 (ipykernel)",
   "language": "python",
   "name": "python3"
  },
  "language_info": {
   "codemirror_mode": {
    "name": "ipython",
    "version": 3
   },
   "file_extension": ".py",
   "mimetype": "text/x-python",
   "name": "python",
   "nbconvert_exporter": "python",
   "pygments_lexer": "ipython3",
   "version": "3.9.12"
  }
 },
 "nbformat": 4,
 "nbformat_minor": 5
}
