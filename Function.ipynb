{
 "cells": [
  {
   "cell_type": "markdown",
   "id": "d4ae30e2",
   "metadata": {},
   "source": [
    "# Total_expense:"
   ]
  },
  {
   "cell_type": "code",
   "execution_count": 1,
   "id": "d044178c",
   "metadata": {},
   "outputs": [],
   "source": [
    "samir = [5000,6000,4500,10000]\n",
    "tejas = [1200,4500,6000,8000]\n",
    "shweta = [10000,40000,5800,1000]"
   ]
  },
  {
   "cell_type": "markdown",
   "id": "04319803",
   "metadata": {},
   "source": [
    "# only can use single name expense"
   ]
  },
  {
   "cell_type": "code",
   "execution_count": 2,
   "id": "bc90e829",
   "metadata": {},
   "outputs": [
    {
     "name": "stdout",
     "output_type": "stream",
     "text": [
      "25500\n"
     ]
    }
   ],
   "source": [
    "total_expense = 0\n",
    "for i in samir:\n",
    "#     print(i)\n",
    "#     total_expense = total expense + i\n",
    "    total_expense += i\n",
    "print(total_expense)"
   ]
  },
  {
   "cell_type": "code",
   "execution_count": 3,
   "id": "b505ce38",
   "metadata": {},
   "outputs": [
    {
     "name": "stdout",
     "output_type": "stream",
     "text": [
      "19700\n"
     ]
    }
   ],
   "source": [
    "total_expense = 0\n",
    "for i in tejas:\n",
    "#     print(i)\n",
    "#     total_expense = total expense + i\n",
    "    total_expense += i\n",
    "print(total_expense)"
   ]
  },
  {
   "cell_type": "code",
   "execution_count": null,
   "id": "c3242e6b",
   "metadata": {},
   "outputs": [],
   "source": [
    "# Function(defination)\n",
    "# function(execution)\n",
    "# function(calling)"
   ]
  },
  {
   "cell_type": "markdown",
   "id": "e78900c0",
   "metadata": {},
   "source": [
    "# we can use all list name expense "
   ]
  },
  {
   "cell_type": "code",
   "execution_count": 4,
   "id": "7a08632d",
   "metadata": {},
   "outputs": [],
   "source": [
    "def expense(name):\n",
    "    total_expense = 0\n",
    "    for i in name:\n",
    "        total_expense += i\n",
    "    print(total_expense)"
   ]
  },
  {
   "cell_type": "code",
   "execution_count": 5,
   "id": "4912733c",
   "metadata": {},
   "outputs": [
    {
     "name": "stdout",
     "output_type": "stream",
     "text": [
      "25500\n"
     ]
    }
   ],
   "source": [
    "expense(samir)"
   ]
  },
  {
   "cell_type": "code",
   "execution_count": 6,
   "id": "495c8b80",
   "metadata": {},
   "outputs": [
    {
     "name": "stdout",
     "output_type": "stream",
     "text": [
      "19700\n"
     ]
    }
   ],
   "source": [
    "expense(tejas)"
   ]
  },
  {
   "cell_type": "code",
   "execution_count": 7,
   "id": "66dccfea",
   "metadata": {},
   "outputs": [
    {
     "name": "stdout",
     "output_type": "stream",
     "text": [
      "56800\n"
     ]
    }
   ],
   "source": [
    "expense(shweta)"
   ]
  },
  {
   "cell_type": "code",
   "execution_count": 10,
   "id": "c36eb7dc",
   "metadata": {},
   "outputs": [],
   "source": [
    "def add(a,b,c,d):\n",
    "    return a,b,c,d"
   ]
  },
  {
   "cell_type": "code",
   "execution_count": 13,
   "id": "0b600f80",
   "metadata": {},
   "outputs": [
    {
     "data": {
      "text/plain": [
       "('sam', 1, 2, 3)"
      ]
     },
     "execution_count": 13,
     "metadata": {},
     "output_type": "execute_result"
    }
   ],
   "source": [
    "add('sam',1,2,3)"
   ]
  },
  {
   "cell_type": "code",
   "execution_count": 2,
   "id": "f49462af",
   "metadata": {},
   "outputs": [],
   "source": [
    "  def add(*a):\n",
    "        return a"
   ]
  },
  {
   "cell_type": "markdown",
   "id": "6ad1b5b6",
   "metadata": {},
   "source": [
    "# (*a) =  I can enter multiple information."
   ]
  },
  {
   "cell_type": "code",
   "execution_count": 3,
   "id": "cf076424",
   "metadata": {},
   "outputs": [
    {
     "data": {
      "text/plain": [
       "('sam', 1.2, 'shweta', 5, 6, 7, 8)"
      ]
     },
     "execution_count": 3,
     "metadata": {},
     "output_type": "execute_result"
    }
   ],
   "source": [
    "add('sam',1.2,'shweta',5,6,7,8)"
   ]
  },
  {
   "cell_type": "markdown",
   "id": "faf1546e",
   "metadata": {},
   "source": [
    "def add(*arguments,**keywords arguments)"
   ]
  },
  {
   "cell_type": "code",
   "execution_count": 20,
   "id": "d04d54d1",
   "metadata": {},
   "outputs": [
    {
     "data": {
      "text/plain": [
       "[]"
      ]
     },
     "execution_count": 20,
     "metadata": {},
     "output_type": "execute_result"
    }
   ],
   "source": [
    "l = []\n",
    "l"
   ]
  },
  {
   "cell_type": "code",
   "execution_count": 21,
   "id": "90624754",
   "metadata": {},
   "outputs": [
    {
     "data": {
      "text/plain": [
       "[15]"
      ]
     },
     "execution_count": 21,
     "metadata": {},
     "output_type": "execute_result"
    }
   ],
   "source": [
    "l.append(15)\n",
    "l"
   ]
  },
  {
   "cell_type": "code",
   "execution_count": 22,
   "id": "af51a27e",
   "metadata": {},
   "outputs": [],
   "source": [
    "l = []\n",
    "def appendd(*a):\n",
    "    for i in a:\n",
    "        l.append(i)\n",
    "    return l"
   ]
  },
  {
   "cell_type": "code",
   "execution_count": 24,
   "id": "405ebaab",
   "metadata": {},
   "outputs": [
    {
     "data": {
      "text/plain": [
       "[1, 2, 3, 4]"
      ]
     },
     "execution_count": 24,
     "metadata": {},
     "output_type": "execute_result"
    }
   ],
   "source": [
    "appendd(1,2,3,4)"
   ]
  },
  {
   "cell_type": "code",
   "execution_count": 25,
   "id": "27ea0919",
   "metadata": {},
   "outputs": [
    {
     "data": {
      "text/plain": [
       "[1, 2, 3, 4, 5, 6, 7, 8]"
      ]
     },
     "execution_count": 25,
     "metadata": {},
     "output_type": "execute_result"
    }
   ],
   "source": [
    "appendd(5,6,7,8)"
   ]
  },
  {
   "cell_type": "code",
   "execution_count": 4,
   "id": "950beb08",
   "metadata": {},
   "outputs": [],
   "source": [
    "def test(a,b,c,d,*e):\n",
    "    return a,b,c,d,e"
   ]
  },
  {
   "cell_type": "code",
   "execution_count": 5,
   "id": "6b6bf95c",
   "metadata": {},
   "outputs": [
    {
     "data": {
      "text/plain": [
       "(1, 2, 3, 4, (5, 6, 7, 8, 9))"
      ]
     },
     "execution_count": 5,
     "metadata": {},
     "output_type": "execute_result"
    }
   ],
   "source": [
    "test(1,2,3,4,5,6,7,8,9)"
   ]
  },
  {
   "cell_type": "code",
   "execution_count": 6,
   "id": "b68be0c5",
   "metadata": {},
   "outputs": [],
   "source": [
    "def test1(*a,b,c,d,e):\n",
    "    return a,b,c,d,e"
   ]
  },
  {
   "cell_type": "code",
   "execution_count": 9,
   "id": "5ae5c29e",
   "metadata": {},
   "outputs": [
    {
     "data": {
      "text/plain": [
       "((1,), 2, 3, 4, 5)"
      ]
     },
     "execution_count": 9,
     "metadata": {},
     "output_type": "execute_result"
    }
   ],
   "source": [
    "test1(1,b=2,c=3,d=4,e=5)"
   ]
  },
  {
   "cell_type": "raw",
   "id": "fc45b623",
   "metadata": {},
   "source": [
    "Types of function:\n",
    "1.Functions with no parameter\n",
    "2.Functions with parameter\n",
    "3.Functions with default parameter\n",
    "4.Functions with return parameter"
   ]
  },
  {
   "cell_type": "code",
   "execution_count": 12,
   "id": "3809c4c1",
   "metadata": {},
   "outputs": [],
   "source": [
    "def test():\n",
    "    print(\"this is function with no parameter\")"
   ]
  },
  {
   "cell_type": "code",
   "execution_count": 13,
   "id": "16e13493",
   "metadata": {},
   "outputs": [
    {
     "name": "stdout",
     "output_type": "stream",
     "text": [
      "this is function with no parameter\n"
     ]
    }
   ],
   "source": [
    "test()"
   ]
  },
  {
   "cell_type": "code",
   "execution_count": 14,
   "id": "2ca29391",
   "metadata": {},
   "outputs": [],
   "source": [
    "def test1(a,b):\n",
    "    print(\"value of a is:\",a)\n",
    "    print(\"value of a is:\",b)\n",
    "    "
   ]
  },
  {
   "cell_type": "code",
   "execution_count": 15,
   "id": "23470775",
   "metadata": {},
   "outputs": [
    {
     "name": "stdout",
     "output_type": "stream",
     "text": [
      "value of a is: 1233\n",
      "value of a is: samir\n"
     ]
    }
   ],
   "source": [
    "test1(1233,\"samir\")"
   ]
  },
  {
   "cell_type": "code",
   "execution_count": 17,
   "id": "63782f36",
   "metadata": {},
   "outputs": [
    {
     "name": "stdout",
     "output_type": "stream",
     "text": [
      "value of a is: 10\n",
      "value of a is: python\n"
     ]
    }
   ],
   "source": [
    "def test2(a=10,b=\"python\"):\n",
    "    print(\"value of a is:\",a)\n",
    "    print(\"value of a is:\",b)\n",
    "test2()"
   ]
  },
  {
   "cell_type": "code",
   "execution_count": 18,
   "id": "49fbb24e",
   "metadata": {},
   "outputs": [
    {
     "name": "stdout",
     "output_type": "stream",
     "text": [
      "value of a is : 1233\n",
      "value of b is : 15\n"
     ]
    }
   ],
   "source": [
    "def test1(a,b=15):\n",
    "    print(\"value of a is :\",a)\n",
    "    print(\"value of b is :\",b)\n",
    "test1(1233)"
   ]
  },
  {
   "cell_type": "code",
   "execution_count": 19,
   "id": "98ff91e3",
   "metadata": {},
   "outputs": [
    {
     "name": "stdout",
     "output_type": "stream",
     "text": [
      "value of a is : 144\n",
      "value of b is : data science\n"
     ]
    }
   ],
   "source": [
    "def test2(a=10,b=\"python\"):\n",
    "    print(\"value of a is :\",a)\n",
    "    print(\"value of b is :\",b)\n",
    "test2(144,'data science')"
   ]
  },
  {
   "cell_type": "code",
   "execution_count": 3,
   "id": "cdc52e7c",
   "metadata": {},
   "outputs": [],
   "source": [
    "def add(a,b):\n",
    "    return a,b"
   ]
  },
  {
   "cell_type": "code",
   "execution_count": 4,
   "id": "b5683e0d",
   "metadata": {},
   "outputs": [
    {
     "data": {
      "text/plain": [
       "(5, 8)"
      ]
     },
     "execution_count": 4,
     "metadata": {},
     "output_type": "execute_result"
    }
   ],
   "source": [
    "add(5,8)"
   ]
  },
  {
   "cell_type": "code",
   "execution_count": 5,
   "id": "7729678e",
   "metadata": {},
   "outputs": [],
   "source": [
    "def add(a,b):\n",
    "    return a+b"
   ]
  },
  {
   "cell_type": "code",
   "execution_count": 6,
   "id": "1e322887",
   "metadata": {},
   "outputs": [
    {
     "data": {
      "text/plain": [
       "9"
      ]
     },
     "execution_count": 6,
     "metadata": {},
     "output_type": "execute_result"
    }
   ],
   "source": [
    "add(4,5)"
   ]
  },
  {
   "cell_type": "code",
   "execution_count": 8,
   "id": "9db37376",
   "metadata": {},
   "outputs": [],
   "source": [
    "def add(a,b):\n",
    "    c=a+b\n",
    "    return c,a,b"
   ]
  },
  {
   "cell_type": "code",
   "execution_count": 9,
   "id": "29425c4b",
   "metadata": {},
   "outputs": [
    {
     "data": {
      "text/plain": [
       "(15, 7, 8)"
      ]
     },
     "execution_count": 9,
     "metadata": {},
     "output_type": "execute_result"
    }
   ],
   "source": [
    "add(7,8)"
   ]
  },
  {
   "cell_type": "code",
   "execution_count": 10,
   "id": "e08b765f",
   "metadata": {},
   "outputs": [],
   "source": [
    "def test(**info):\n",
    "    return info"
   ]
  },
  {
   "cell_type": "code",
   "execution_count": 11,
   "id": "b7a59d10",
   "metadata": {},
   "outputs": [
    {
     "data": {
      "text/plain": [
       "{'name': 'samir', 'skills': ['python', 'html']}"
      ]
     },
     "execution_count": 11,
     "metadata": {},
     "output_type": "execute_result"
    }
   ],
   "source": [
    "test(name=\"samir\",skills=['python','html'])"
   ]
  },
  {
   "cell_type": "code",
   "execution_count": 12,
   "id": "befb3056",
   "metadata": {},
   "outputs": [],
   "source": [
    "def test1(*a,**info):\n",
    "    return a,info"
   ]
  },
  {
   "cell_type": "code",
   "execution_count": 14,
   "id": "1e16dfd4",
   "metadata": {},
   "outputs": [
    {
     "data": {
      "text/plain": [
       "((1, 2), {'a': 'python', 'skills': 'python'})"
      ]
     },
     "execution_count": 14,
     "metadata": {},
     "output_type": "execute_result"
    }
   ],
   "source": [
    "test1(1,2,a=\"python\",skills='python')"
   ]
  },
  {
   "cell_type": "code",
   "execution_count": 24,
   "id": "349814ee",
   "metadata": {},
   "outputs": [],
   "source": [
    "def test(*a):\n",
    "    b = 5\n",
    "    l = []\n",
    "    for i in a:\n",
    "        if type(i) == int:\n",
    "            final = b+i\n",
    "            l.append(final)\n",
    "        elif type(i) == float:\n",
    "            print(i)\n",
    "        else:\n",
    "            y = i.upper()\n",
    "            print(y)\n",
    "            \n",
    "    print(\"final list is : \", l)"
   ]
  },
  {
   "cell_type": "code",
   "execution_count": 26,
   "id": "02055e34",
   "metadata": {
    "scrolled": true
   },
   "outputs": [
    {
     "name": "stdout",
     "output_type": "stream",
     "text": [
      "GHF\n",
      "4.5\n",
      "FRT\n",
      "final list is :  [10, 14, 9, 12]\n"
     ]
    }
   ],
   "source": [
    "test(5,9,'ghf',4.5,4,'frt',7)"
   ]
  },
  {
   "cell_type": "code",
   "execution_count": 46,
   "id": "c6df019a",
   "metadata": {},
   "outputs": [],
   "source": [
    "a = 10      #global variable\n",
    "def add(s):\n",
    "    print(s)"
   ]
  },
  {
   "cell_type": "code",
   "execution_count": 47,
   "id": "e3427586",
   "metadata": {},
   "outputs": [
    {
     "name": "stdout",
     "output_type": "stream",
     "text": [
      "10\n"
     ]
    }
   ],
   "source": [
    "add(a)"
   ]
  },
  {
   "cell_type": "code",
   "execution_count": 48,
   "id": "00dff9ba",
   "metadata": {},
   "outputs": [
    {
     "name": "stdout",
     "output_type": "stream",
     "text": [
      "10\n"
     ]
    }
   ],
   "source": [
    "print(a)"
   ]
  },
  {
   "cell_type": "code",
   "execution_count": 49,
   "id": "da29030d",
   "metadata": {},
   "outputs": [],
   "source": [
    "def add():   #local variable/will only in your functionor while calling this functions.\n",
    "    ab = 45\n",
    "    print(ab)"
   ]
  },
  {
   "cell_type": "code",
   "execution_count": 50,
   "id": "d7a9518c",
   "metadata": {},
   "outputs": [
    {
     "name": "stdout",
     "output_type": "stream",
     "text": [
      "45\n"
     ]
    }
   ],
   "source": [
    "add()"
   ]
  },
  {
   "cell_type": "code",
   "execution_count": 54,
   "id": "2d720c1b",
   "metadata": {},
   "outputs": [
    {
     "name": "stdout",
     "output_type": "stream",
     "text": [
      "this is an odd number\n"
     ]
    }
   ],
   "source": [
    "def odd_even(n):\n",
    "    if n%2 == 0:\n",
    "        print(\"this is an even number\")\n",
    "    else:\n",
    "        print(\"this is an odd number\")\n",
    "odd_even(5)"
   ]
  },
  {
   "cell_type": "code",
   "execution_count": 55,
   "id": "ccf5e5ba",
   "metadata": {},
   "outputs": [
    {
     "name": "stdout",
     "output_type": "stream",
     "text": [
      "input a number:8\n",
      "this is an even number\n"
     ]
    }
   ],
   "source": [
    "odd_even(n=int(input(\"input a number:\")))"
   ]
  },
  {
   "cell_type": "code",
   "execution_count": 56,
   "id": "61e40b46",
   "metadata": {},
   "outputs": [
    {
     "name": "stdout",
     "output_type": "stream",
     "text": [
      "Enter a number for factorial:5\n",
      "1\n",
      "2\n",
      "6\n",
      "24\n",
      "120\n"
     ]
    }
   ],
   "source": [
    "a = int(input(\"Enter a number for factorial:\"))\n",
    "def fact_num(n):\n",
    "    fact = 1\n",
    "    for i in range(1,n+1):\n",
    "        fact = fact*i\n",
    "        print(fact)\n",
    "fact_num(a)\n",
    "        "
   ]
  },
  {
   "cell_type": "markdown",
   "id": "3685eece",
   "metadata": {},
   "source": [
    "# function to check prime numbers"
   ]
  },
  {
   "cell_type": "code",
   "execution_count": null,
   "id": "14a625e1",
   "metadata": {},
   "outputs": [],
   "source": [
    "def prime_number(n)\n",
    "  pass"
   ]
  },
  {
   "cell_type": "code",
   "execution_count": 2,
   "id": "2627e990",
   "metadata": {},
   "outputs": [
    {
     "name": "stdout",
     "output_type": "stream",
     "text": [
      "Not a prime number\n"
     ]
    }
   ],
   "source": [
    "n = 4\n",
    "for i in range(2,n):\n",
    "    x = 0\n",
    "    if n%i == 0:\n",
    "        x = 0\n",
    "        break\n",
    "    \n",
    "    else:\n",
    "        x = 1\n",
    "if x == 1:\n",
    "    print(\"this is a prime number\")\n",
    "else:\n",
    "    print(\"Not a prime number\")"
   ]
  },
  {
   "cell_type": "code",
   "execution_count": 69,
   "id": "052c203d",
   "metadata": {},
   "outputs": [
    {
     "ename": "SyntaxError",
     "evalue": "invalid syntax (1618811268.py, line 5)",
     "output_type": "error",
     "traceback": [
      "\u001b[1;36m  Input \u001b[1;32mIn [69]\u001b[1;36m\u001b[0m\n\u001b[1;33m    if n%i == 0\u001b[0m\n\u001b[1;37m               ^\u001b[0m\n\u001b[1;31mSyntaxError\u001b[0m\u001b[1;31m:\u001b[0m invalid syntax\n"
     ]
    }
   ],
   "source": [
    "number = int(input(\"Enter a number to check for prime:\"))\n",
    "def prime_number(n):\n",
    "    for i in range(2,n):\n",
    "        x=0\n",
    "        if n%i == 0\n",
    "            x=0\n",
    "            break\n",
    "        else:\n",
    "            x=1\n",
    "    return x\n",
    "final = prime_number(number)\n",
    " if final == i\n",
    "    print(\"this is a prime number\")\n",
    "else:\n",
    "    print(\"not a prime number\")"
   ]
  },
  {
   "cell_type": "code",
   "execution_count": null,
   "id": "f02cef59",
   "metadata": {},
   "outputs": [],
   "source": []
  },
  {
   "cell_type": "code",
   "execution_count": null,
   "id": "e2d65bbb",
   "metadata": {},
   "outputs": [],
   "source": []
  }
 ],
 "metadata": {
  "kernelspec": {
   "display_name": "Python 3 (ipykernel)",
   "language": "python",
   "name": "python3"
  },
  "language_info": {
   "codemirror_mode": {
    "name": "ipython",
    "version": 3
   },
   "file_extension": ".py",
   "mimetype": "text/x-python",
   "name": "python",
   "nbconvert_exporter": "python",
   "pygments_lexer": "ipython3",
   "version": "3.9.12"
  }
 },
 "nbformat": 4,
 "nbformat_minor": 5
}
