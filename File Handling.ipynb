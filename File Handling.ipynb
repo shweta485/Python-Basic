{
 "cells": [
  {
   "cell_type": "markdown",
   "id": "fcaea4a4",
   "metadata": {},
   "source": [
    "Read 'r'= or 'rt'\n",
    "write 'w'= or 'wt'\n",
    "append 'a'= or 'at'\n",
    "create 'x'= or ,'xt'"
   ]
  },
  {
   "cell_type": "code",
   "execution_count": null,
   "id": "664ad470",
   "metadata": {},
   "outputs": [],
   "source": [
    "('abc.txt','r')= if available it will open or else I will get error.\n",
    "('abc.txt','w')= if available it will open or else it will create a new file of this name.\n",
    "('abc.txt','a')= if available it will open or else it will create a new file of this name.\n",
    "('abc.txt','x')= if avilable then i will get an error or it will create a nwe file."
   ]
  },
  {
   "cell_type": "code",
   "execution_count": 1,
   "id": "50730a14",
   "metadata": {},
   "outputs": [],
   "source": [
    "f = open('abc.txt','r')"
   ]
  },
  {
   "cell_type": "code",
   "execution_count": 2,
   "id": "b9214b53",
   "metadata": {},
   "outputs": [],
   "source": [
    "f1= open('abc1.txt','w')"
   ]
  },
  {
   "cell_type": "code",
   "execution_count": null,
   "id": "574e2091",
   "metadata": {},
   "outputs": [],
   "source": [
    "# This cell can be run and create a new file . "
   ]
  },
  {
   "cell_type": "code",
   "execution_count": 6,
   "id": "49c74429",
   "metadata": {},
   "outputs": [],
   "source": [
    "f2 = open('abc3.txt','x')"
   ]
  },
  {
   "cell_type": "code",
   "execution_count": null,
   "id": "bf08e5b0",
   "metadata": {},
   "outputs": [],
   "source": [
    "# then f2= open('abc3.txt','x')file rename and then cell is run. "
   ]
  },
  {
   "cell_type": "code",
   "execution_count": 8,
   "id": "7b4c2f18",
   "metadata": {},
   "outputs": [
    {
     "ename": "UnsupportedOperation",
     "evalue": "not writable",
     "output_type": "error",
     "traceback": [
      "\u001b[1;31m---------------------------------------------------------------------------\u001b[0m",
      "\u001b[1;31mUnsupportedOperation\u001b[0m                      Traceback (most recent call last)",
      "Input \u001b[1;32mIn [8]\u001b[0m, in \u001b[0;36m<cell line: 2>\u001b[1;34m()\u001b[0m\n\u001b[0;32m      1\u001b[0m f \u001b[38;5;241m=\u001b[39m \u001b[38;5;28mopen\u001b[39m(\u001b[38;5;124m'\u001b[39m\u001b[38;5;124mabc.txt\u001b[39m\u001b[38;5;124m'\u001b[39m,\u001b[38;5;124m'\u001b[39m\u001b[38;5;124mr\u001b[39m\u001b[38;5;124m'\u001b[39m)\n\u001b[1;32m----> 2\u001b[0m \u001b[43mf\u001b[49m\u001b[38;5;241;43m.\u001b[39;49m\u001b[43mwrite\u001b[49m\u001b[43m(\u001b[49m\u001b[38;5;124;43m\"\u001b[39;49m\u001b[38;5;124;43mthis is my file handling class\u001b[39;49m\u001b[38;5;124;43m\"\u001b[39;49m\u001b[43m)\u001b[49m\n",
      "\u001b[1;31mUnsupportedOperation\u001b[0m: not writable"
     ]
    }
   ],
   "source": [
    "f = open('abc.txt','r')\n",
    "f.write(\"this is my file handling class\")"
   ]
  },
  {
   "cell_type": "code",
   "execution_count": 1,
   "id": "0cd0a2d4",
   "metadata": {},
   "outputs": [
    {
     "data": {
      "text/plain": [
       "30"
      ]
     },
     "execution_count": 1,
     "metadata": {},
     "output_type": "execute_result"
    }
   ],
   "source": [
    "f1 = open('abc1.txt','w')\n",
    "f1.write(\"this is my file handling class\")\n",
    "f1.write(\"this is my file handling class\")"
   ]
  },
  {
   "cell_type": "code",
   "execution_count": 2,
   "id": "cdf9b42a",
   "metadata": {},
   "outputs": [],
   "source": [
    "f1.close()  #if you close this file you cannot write this file."
   ]
  },
  {
   "cell_type": "code",
   "execution_count": 11,
   "id": "f696248f",
   "metadata": {},
   "outputs": [
    {
     "ename": "ValueError",
     "evalue": "I/O operation on closed file.",
     "output_type": "error",
     "traceback": [
      "\u001b[1;31m---------------------------------------------------------------------------\u001b[0m",
      "\u001b[1;31mValueError\u001b[0m                                Traceback (most recent call last)",
      "Input \u001b[1;32mIn [11]\u001b[0m, in \u001b[0;36m<cell line: 1>\u001b[1;34m()\u001b[0m\n\u001b[1;32m----> 1\u001b[0m \u001b[43mf1\u001b[49m\u001b[38;5;241;43m.\u001b[39;49m\u001b[43mwrite\u001b[49m\u001b[43m(\u001b[49m\u001b[38;5;124;43m\"\u001b[39;49m\u001b[38;5;124;43mthis is my file handling class\u001b[39;49m\u001b[38;5;124;43m\"\u001b[39;49m\u001b[43m)\u001b[49m\n",
      "\u001b[1;31mValueError\u001b[0m: I/O operation on closed file."
     ]
    }
   ],
   "source": [
    "f1.write(\"this is my file handling class\")"
   ]
  },
  {
   "cell_type": "code",
   "execution_count": 3,
   "id": "c5eb3300",
   "metadata": {},
   "outputs": [
    {
     "data": {
      "text/plain": [
       "30"
      ]
     },
     "execution_count": 3,
     "metadata": {},
     "output_type": "execute_result"
    }
   ],
   "source": [
    "f1.close()\n",
    "f1 = open('abc1.txt','w')\n",
    "f1.write(\"this is my file handling class\")"
   ]
  },
  {
   "cell_type": "code",
   "execution_count": 4,
   "id": "692504c7",
   "metadata": {},
   "outputs": [],
   "source": [
    "f1.close()\n",
    "f1 = open('abc1.txt','w')\n",
    "f1.write('this is my python class')\n",
    "f1.close()"
   ]
  },
  {
   "cell_type": "code",
   "execution_count": 5,
   "id": "1cc1be03",
   "metadata": {},
   "outputs": [],
   "source": [
    "f = open('xyz.txt','a')\n",
    "f.write(\"this is my python class\")\n",
    "f.close()"
   ]
  },
  {
   "cell_type": "code",
   "execution_count": 13,
   "id": "9b7a466a",
   "metadata": {},
   "outputs": [],
   "source": [
    "f = open('xyz.txt','a')\n",
    "f.write(\"this is my file handling\\n\")\n",
    "f.close()"
   ]
  },
  {
   "cell_type": "markdown",
   "id": "121972ce",
   "metadata": {},
   "source": [
    "# txt File,binary File"
   ]
  },
  {
   "cell_type": "code",
   "execution_count": 30,
   "id": "8806b9d1",
   "metadata": {},
   "outputs": [],
   "source": [
    "f = open('abc.sam','x')"
   ]
  },
  {
   "cell_type": "code",
   "execution_count": 31,
   "id": "7a220010",
   "metadata": {},
   "outputs": [],
   "source": [
    "f1 = open('abc.txt')"
   ]
  },
  {
   "cell_type": "code",
   "execution_count": 32,
   "id": "7219841d",
   "metadata": {},
   "outputs": [
    {
     "ename": "UnsupportedOperation",
     "evalue": "not writable",
     "output_type": "error",
     "traceback": [
      "\u001b[1;31m---------------------------------------------------------------------------\u001b[0m",
      "\u001b[1;31mUnsupportedOperation\u001b[0m                      Traceback (most recent call last)",
      "Input \u001b[1;32mIn [32]\u001b[0m, in \u001b[0;36m<cell line: 1>\u001b[1;34m()\u001b[0m\n\u001b[1;32m----> 1\u001b[0m \u001b[43mf1\u001b[49m\u001b[38;5;241;43m.\u001b[39;49m\u001b[43mwrite\u001b[49m\u001b[43m(\u001b[49m\u001b[38;5;124;43m'\u001b[39;49m\u001b[38;5;124;43mok\u001b[39;49m\u001b[38;5;124;43m'\u001b[39;49m\u001b[43m)\u001b[49m\n",
      "\u001b[1;31mUnsupportedOperation\u001b[0m: not writable"
     ]
    }
   ],
   "source": [
    "f1.write('ok')"
   ]
  },
  {
   "cell_type": "code",
   "execution_count": 21,
   "id": "658860b7",
   "metadata": {},
   "outputs": [],
   "source": [
    "l = [1,2,3,4,5,6]\n",
    "l1 = [1,2,3,4,5,6,1,2,3,4,5,6]"
   ]
  },
  {
   "cell_type": "code",
   "execution_count": 22,
   "id": "a53186d4",
   "metadata": {},
   "outputs": [],
   "source": [
    "f1 = open('lemo.txt', 'a')\n",
    "f1.write(\"Input info :\")\n",
    "f1.write(str(l))\n",
    "f1.write(\"\\noutput info :\")\n",
    "f1.write(str(l1))\n",
    "f1.write(\"\\nCompleted\")\n",
    "f1.close()"
   ]
  },
  {
   "cell_type": "code",
   "execution_count": 27,
   "id": "ad320abe",
   "metadata": {},
   "outputs": [],
   "source": [
    "f = open('xyz.txt','r')"
   ]
  },
  {
   "cell_type": "code",
   "execution_count": 28,
   "id": "daaa27d5",
   "metadata": {},
   "outputs": [
    {
     "name": "stdout",
     "output_type": "stream",
     "text": [
      "<_io.TextIOWrapper name='xyz.txt' mode='r' encoding='cp1252'>\n"
     ]
    }
   ],
   "source": [
    "print(f)"
   ]
  },
  {
   "cell_type": "code",
   "execution_count": 29,
   "id": "f5ca0891",
   "metadata": {
    "scrolled": true
   },
   "outputs": [
    {
     "data": {
      "text/plain": [
       "'this is my python classthis is my file handling classthis is my python class\\nthis is my python classthis is my file handlingthis is my file handlingthis is my file handling\\nthis is my file handling\\nthis is my file handling\\nthis is my file handling\\nthis is my file handling\\nthis is my file handling\\n'"
      ]
     },
     "execution_count": 29,
     "metadata": {},
     "output_type": "execute_result"
    }
   ],
   "source": [
    "f.read()"
   ]
  },
  {
   "cell_type": "code",
   "execution_count": 30,
   "id": "62d0d601",
   "metadata": {},
   "outputs": [
    {
     "data": {
      "text/plain": [
       "''"
      ]
     },
     "execution_count": 30,
     "metadata": {},
     "output_type": "execute_result"
    }
   ],
   "source": [
    "f.read()"
   ]
  },
  {
   "cell_type": "code",
   "execution_count": 31,
   "id": "698a30b6",
   "metadata": {},
   "outputs": [
    {
     "data": {
      "text/plain": [
       "305"
      ]
     },
     "execution_count": 31,
     "metadata": {},
     "output_type": "execute_result"
    }
   ],
   "source": [
    "f.tell()"
   ]
  },
  {
   "cell_type": "code",
   "execution_count": 44,
   "id": "d8caca5a",
   "metadata": {},
   "outputs": [
    {
     "data": {
      "text/plain": [
       "0"
      ]
     },
     "execution_count": 44,
     "metadata": {},
     "output_type": "execute_result"
    }
   ],
   "source": [
    "f.seek(0)"
   ]
  },
  {
   "cell_type": "code",
   "execution_count": 33,
   "id": "fa1cb0dd",
   "metadata": {},
   "outputs": [
    {
     "data": {
      "text/plain": [
       "'this is my python classthis is my file handling classthis is my python class\\nthis is my python classthis is my file handlingthis is my file handlingthis is my file handling\\nthis is my file handling\\nthis is my file handling\\nthis is my file handling\\nthis is my file handling\\nthis is my file handling\\n'"
      ]
     },
     "execution_count": 33,
     "metadata": {},
     "output_type": "execute_result"
    }
   ],
   "source": [
    "f.read()"
   ]
  },
  {
   "cell_type": "code",
   "execution_count": 37,
   "id": "2bdc755f",
   "metadata": {},
   "outputs": [
    {
     "data": {
      "text/plain": [
       "15"
      ]
     },
     "execution_count": 37,
     "metadata": {},
     "output_type": "execute_result"
    }
   ],
   "source": [
    "f.seek(15)"
   ]
  },
  {
   "cell_type": "code",
   "execution_count": 1,
   "id": "5743127c",
   "metadata": {},
   "outputs": [
    {
     "ename": "NameError",
     "evalue": "name 'f' is not defined",
     "output_type": "error",
     "traceback": [
      "\u001b[1;31m---------------------------------------------------------------------------\u001b[0m",
      "\u001b[1;31mNameError\u001b[0m                                 Traceback (most recent call last)",
      "Input \u001b[1;32mIn [1]\u001b[0m, in \u001b[0;36m<cell line: 1>\u001b[1;34m()\u001b[0m\n\u001b[1;32m----> 1\u001b[0m \u001b[43mf\u001b[49m\u001b[38;5;241m.\u001b[39mread()\n",
      "\u001b[1;31mNameError\u001b[0m: name 'f' is not defined"
     ]
    }
   ],
   "source": [
    "f.read()"
   ]
  },
  {
   "cell_type": "code",
   "execution_count": 39,
   "id": "9b11b53a",
   "metadata": {},
   "outputs": [
    {
     "data": {
      "text/plain": [
       "305"
      ]
     },
     "execution_count": 39,
     "metadata": {},
     "output_type": "execute_result"
    }
   ],
   "source": [
    "f.tell()"
   ]
  },
  {
   "cell_type": "code",
   "execution_count": 42,
   "id": "8b63413c",
   "metadata": {},
   "outputs": [
    {
     "data": {
      "text/plain": [
       "['this is my python classthis is my file handling classthis is my python class\\n',\n",
       " 'this is my python classthis is my file handlingthis is my file handlingthis is my file handling\\n',\n",
       " 'this is my file handling\\n',\n",
       " 'this is my file handling\\n',\n",
       " 'this is my file handling\\n',\n",
       " 'this is my file handling\\n',\n",
       " 'this is my file handling\\n']"
      ]
     },
     "execution_count": 42,
     "metadata": {},
     "output_type": "execute_result"
    }
   ],
   "source": [
    "f.readlines()"
   ]
  },
  {
   "cell_type": "code",
   "execution_count": 45,
   "id": "46a71e4b",
   "metadata": {},
   "outputs": [
    {
     "data": {
      "text/plain": [
       "'this is my python classthis is my file handling classthis is my python class\\n'"
      ]
     },
     "execution_count": 45,
     "metadata": {},
     "output_type": "execute_result"
    }
   ],
   "source": [
    "f.readline()"
   ]
  },
  {
   "cell_type": "code",
   "execution_count": 4,
   "id": "d7747470",
   "metadata": {},
   "outputs": [
    {
     "data": {
      "text/plain": [
       "<function TextIOWrapper.close()>"
      ]
     },
     "execution_count": 4,
     "metadata": {},
     "output_type": "execute_result"
    }
   ],
   "source": [
    "f=open('abc.txt','w')\n",
    "f.write(\"This is my file handling\")\n",
    "f.close"
   ]
  },
  {
   "cell_type": "code",
   "execution_count": 5,
   "id": "ac184222",
   "metadata": {},
   "outputs": [],
   "source": [
    "f = open('shw.txt','w')\n",
    "f.write(\"python is an interpreted, interactive, object-oriented programming language\")\n",
    "f.close()"
   ]
  },
  {
   "cell_type": "code",
   "execution_count": 1,
   "id": "69040d2e",
   "metadata": {},
   "outputs": [],
   "source": [
    "f1 = open('abcd.txt','w')\n",
    "f1.write(\"This is my file handling\")\n",
    "f1.close()"
   ]
  },
  {
   "cell_type": "code",
   "execution_count": 2,
   "id": "b4dd3782",
   "metadata": {},
   "outputs": [],
   "source": [
    "s = open('abcd.txt','w')\n",
    "s.write(\"python can be used on a serve to create web appliations\")\n",
    "s.close()"
   ]
  },
  {
   "cell_type": "code",
   "execution_count": null,
   "id": "b1959415",
   "metadata": {},
   "outputs": [],
   "source": []
  }
 ],
 "metadata": {
  "kernelspec": {
   "display_name": "Python 3 (ipykernel)",
   "language": "python",
   "name": "python3"
  },
  "language_info": {
   "codemirror_mode": {
    "name": "ipython",
    "version": 3
   },
   "file_extension": ".py",
   "mimetype": "text/x-python",
   "name": "python",
   "nbconvert_exporter": "python",
   "pygments_lexer": "ipython3",
   "version": "3.9.12"
  }
 },
 "nbformat": 4,
 "nbformat_minor": 5
}
