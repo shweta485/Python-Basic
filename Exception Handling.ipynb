{
 "cells": [
  {
   "cell_type": "code",
   "execution_count": 1,
   "id": "2c5eb322",
   "metadata": {},
   "outputs": [
    {
     "name": "stdout",
     "output_type": "stream",
     "text": [
      "Requirement already satisfied: pandas in c:\\users\\thora\\anaconda3\\lib\\site-packages (1.4.2)\n",
      "Requirement already satisfied: pytz>=2020.1 in c:\\users\\thora\\anaconda3\\lib\\site-packages (from pandas) (2021.3)\n",
      "Requirement already satisfied: python-dateutil>=2.8.1 in c:\\users\\thora\\anaconda3\\lib\\site-packages (from pandas) (2.8.2)\n",
      "Requirement already satisfied: numpy>=1.18.5 in c:\\users\\thora\\anaconda3\\lib\\site-packages (from pandas) (1.21.5)\n",
      "Requirement already satisfied: six>=1.5 in c:\\users\\thora\\anaconda3\\lib\\site-packages (from python-dateutil>=2.8.1->pandas) (1.16.0)\n",
      "Note: you may need to restart the kernel to use updated packages.\n"
     ]
    }
   ],
   "source": [
    "pip install pandas"
   ]
  },
  {
   "cell_type": "code",
   "execution_count": 2,
   "id": "b802130b",
   "metadata": {},
   "outputs": [
    {
     "name": "stdout",
     "output_type": "stream",
     "text": [
      "Requirement already satisfied: pandas in c:\\users\\thora\\anaconda3\\lib\\site-packages (1.4.2)\n",
      "Requirement already satisfied: pytz>=2020.1 in c:\\users\\thora\\anaconda3\\lib\\site-packages (from pandas) (2021.3)\n",
      "Requirement already satisfied: numpy>=1.18.5 in c:\\users\\thora\\anaconda3\\lib\\site-packages (from pandas) (1.21.5)\n",
      "Requirement already satisfied: python-dateutil>=2.8.1 in c:\\users\\thora\\anaconda3\\lib\\site-packages (from pandas) (2.8.2)\n",
      "Requirement already satisfied: six>=1.5 in c:\\users\\thora\\anaconda3\\lib\\site-packages (from python-dateutil>=2.8.1->pandas) (1.16.0)\n"
     ]
    }
   ],
   "source": [
    "!pip install pandas"
   ]
  },
  {
   "cell_type": "code",
   "execution_count": null,
   "id": "c034cc11",
   "metadata": {},
   "outputs": [],
   "source": [
    "#single method can be import\n",
    "from random import abc,xyz "
   ]
  },
  {
   "cell_type": "code",
   "execution_count": null,
   "id": "bb08fcc1",
   "metadata": {},
   "outputs": [],
   "source": [
    "# all method can be import\n",
    "from random import *"
   ]
  },
  {
   "cell_type": "code",
   "execution_count": 4,
   "id": "b7a2a6cf",
   "metadata": {},
   "outputs": [],
   "source": [
    "from pandas import*"
   ]
  },
  {
   "cell_type": "raw",
   "id": "52e45435",
   "metadata": {},
   "source": [
    "# pandas.(press tab)= pandas method check"
   ]
  },
  {
   "cell_type": "code",
   "execution_count": 5,
   "id": "e7d53142",
   "metadata": {},
   "outputs": [],
   "source": [
    "from random import*"
   ]
  },
  {
   "cell_type": "code",
   "execution_count": 6,
   "id": "921fc998",
   "metadata": {},
   "outputs": [
    {
     "data": {
      "text/plain": [
       "0.379334552001818"
      ]
     },
     "execution_count": 6,
     "metadata": {},
     "output_type": "execute_result"
    }
   ],
   "source": [
    "# it will be return a float value between 0 to 1\n",
    "random()"
   ]
  },
  {
   "cell_type": "code",
   "execution_count": 7,
   "id": "18205e01",
   "metadata": {},
   "outputs": [
    {
     "data": {
      "text/plain": [
       "1"
      ]
     },
     "execution_count": 7,
     "metadata": {},
     "output_type": "execute_result"
    }
   ],
   "source": [
    "l = [1,2,3,4,6]\n",
    "l[0]"
   ]
  },
  {
   "cell_type": "code",
   "execution_count": 8,
   "id": "a860f146",
   "metadata": {},
   "outputs": [
    {
     "name": "stdout",
     "output_type": "stream",
     "text": [
      "0.40577673869476005\n",
      "0.5484687472317095\n",
      "0.06879819452913205\n",
      "0.07779984427837094\n",
      "0.03551115476207445\n"
     ]
    }
   ],
   "source": [
    "# we want to this method will give you 5 values between 0 to 1 \n",
    "for i in range(5):\n",
    "     print(random())"
   ]
  },
  {
   "cell_type": "code",
   "execution_count": 11,
   "id": "1caf22b8",
   "metadata": {},
   "outputs": [
    {
     "data": {
      "text/plain": [
       "2"
      ]
     },
     "execution_count": 11,
     "metadata": {},
     "output_type": "execute_result"
    }
   ],
   "source": [
    "# value give to 1 between 10 (it will only give you output is in integer.)\n",
    "randint(1,10)"
   ]
  },
  {
   "cell_type": "code",
   "execution_count": 13,
   "id": "bbf46b29",
   "metadata": {},
   "outputs": [
    {
     "name": "stdout",
     "output_type": "stream",
     "text": [
      "7\n",
      "11\n",
      "8\n",
      "12\n",
      "7\n"
     ]
    }
   ],
   "source": [
    "# we want to this for loop method will give you 5 values between 5 to 15.\n",
    "for i in range(5):\n",
    "    print(randint(5,15))"
   ]
  },
  {
   "cell_type": "code",
   "execution_count": 15,
   "id": "f2ee0193",
   "metadata": {},
   "outputs": [
    {
     "data": {
      "text/plain": [
       "31"
      ]
     },
     "execution_count": 15,
     "metadata": {},
     "output_type": "execute_result"
    }
   ],
   "source": [
    "# randrange(start,stop=none,step=1)\n",
    "randrange(10,100,7)"
   ]
  },
  {
   "cell_type": "code",
   "execution_count": 16,
   "id": "9b27c0e1",
   "metadata": {},
   "outputs": [
    {
     "name": "stdout",
     "output_type": "stream",
     "text": [
      "10\n",
      "80\n",
      "80\n",
      "80\n",
      "80\n",
      "80\n",
      "73\n",
      "31\n",
      "94\n",
      "38\n"
     ]
    }
   ],
   "source": [
    "for i in range(10):\n",
    "    print(randrange(10,100,7))"
   ]
  },
  {
   "cell_type": "code",
   "execution_count": 17,
   "id": "316edf8f",
   "metadata": {},
   "outputs": [
    {
     "data": {
      "text/plain": [
       "6.066442209927769"
      ]
     },
     "execution_count": 17,
     "metadata": {},
     "output_type": "execute_result"
    }
   ],
   "source": [
    "# will return a float value between 1 to 10\n",
    "uniform(1,10)"
   ]
  },
  {
   "cell_type": "code",
   "execution_count": 18,
   "id": "65c372cf",
   "metadata": {},
   "outputs": [
    {
     "name": "stdout",
     "output_type": "stream",
     "text": [
      "8.020997399488756\n",
      "6.338447530806017\n",
      "2.7739551278189065\n",
      "4.980142962386896\n",
      "4.9172841535518605\n",
      "6.707364578991096\n",
      "4.236562845447283\n",
      "1.1217800881132929\n",
      "1.5543478711358976\n",
      "3.224170329989345\n"
     ]
    }
   ],
   "source": [
    "for i in range(10):\n",
    "    print(uniform(1,9))"
   ]
  },
  {
   "cell_type": "code",
   "execution_count": 19,
   "id": "1f7f1298",
   "metadata": {},
   "outputs": [],
   "source": [
    "l = [10,20,30,40,50,60,70,80,90,100]"
   ]
  },
  {
   "cell_type": "code",
   "execution_count": 20,
   "id": "7ba3b6bd",
   "metadata": {},
   "outputs": [
    {
     "data": {
      "text/plain": [
       "60"
      ]
     },
     "execution_count": 20,
     "metadata": {},
     "output_type": "execute_result"
    }
   ],
   "source": [
    "choice(l)"
   ]
  },
  {
   "cell_type": "markdown",
   "id": "b9f3f04f",
   "metadata": {},
   "source": [
    "# Exception handling = we have to handle every error you get without stopping your project or website."
   ]
  },
  {
   "cell_type": "code",
   "execution_count": 21,
   "id": "c8b6d6a1",
   "metadata": {},
   "outputs": [
    {
     "ename": "ZeroDivisionError",
     "evalue": "division by zero",
     "output_type": "error",
     "traceback": [
      "\u001b[1;31m---------------------------------------------------------------------------\u001b[0m",
      "\u001b[1;31mZeroDivisionError\u001b[0m                         Traceback (most recent call last)",
      "Input \u001b[1;32mIn [21]\u001b[0m, in \u001b[0;36m<cell line: 3>\u001b[1;34m()\u001b[0m\n\u001b[0;32m      1\u001b[0m a \u001b[38;5;241m=\u001b[39m \u001b[38;5;241m10\u001b[39m\n\u001b[0;32m      2\u001b[0m b \u001b[38;5;241m=\u001b[39m \u001b[38;5;241m0\u001b[39m\n\u001b[1;32m----> 3\u001b[0m \u001b[43ma\u001b[49m\u001b[38;5;241;43m/\u001b[39;49m\u001b[43mb\u001b[49m\n",
      "\u001b[1;31mZeroDivisionError\u001b[0m: division by zero"
     ]
    }
   ],
   "source": [
    "a = 10\n",
    "b = 0\n",
    "a/b"
   ]
  },
  {
   "cell_type": "code",
   "execution_count": 22,
   "id": "bdef5944",
   "metadata": {},
   "outputs": [
    {
     "data": {
      "text/plain": [
       "2.0"
      ]
     },
     "execution_count": 22,
     "metadata": {},
     "output_type": "execute_result"
    }
   ],
   "source": [
    "a = 10\n",
    "b = 5\n",
    "a/b"
   ]
  },
  {
   "cell_type": "markdown",
   "id": "3c379a51",
   "metadata": {},
   "source": [
    "# try, except, finally"
   ]
  },
  {
   "cell_type": "code",
   "execution_count": 24,
   "id": "6a22abe5",
   "metadata": {},
   "outputs": [
    {
     "name": "stdout",
     "output_type": "stream",
     "text": [
      "Number cant be divided by zero\n"
     ]
    }
   ],
   "source": [
    "a = 10\n",
    "b = 0\n",
    "try:\n",
    "    print(a/b)\n",
    "except:\n",
    "    print(\"Number cant be divided by zero\")"
   ]
  },
  {
   "cell_type": "code",
   "execution_count": 26,
   "id": "6def42f0",
   "metadata": {},
   "outputs": [
    {
     "name": "stdout",
     "output_type": "stream",
     "text": [
      "division by zero\n"
     ]
    }
   ],
   "source": [
    "a = 10\n",
    "b = 0\n",
    "try:\n",
    "    print(a/b)\n",
    "except Exception as e:\n",
    "    print(e)"
   ]
  },
  {
   "cell_type": "code",
   "execution_count": 7,
   "id": "e6ed9d6d",
   "metadata": {},
   "outputs": [],
   "source": [
    "f = open('abc.txt','w')\n",
    "f.write(\"ok\")\n",
    "f.close()"
   ]
  },
  {
   "cell_type": "code",
   "execution_count": 34,
   "id": "c1f30946",
   "metadata": {},
   "outputs": [
    {
     "name": "stdout",
     "output_type": "stream",
     "text": [
      "I/O operation on closed file.\n"
     ]
    }
   ],
   "source": [
    "try:\n",
    "    f.write(\"ok\")\n",
    "except Exception as e:\n",
    "    print(e)"
   ]
  },
  {
   "cell_type": "code",
   "execution_count": 35,
   "id": "270eea78",
   "metadata": {},
   "outputs": [],
   "source": [
    "try:\n",
    "    f = open('abc.txt','w')\n",
    "    f.write(\"ok\")\n",
    "except Exception as e:\n",
    "    print(e)"
   ]
  },
  {
   "cell_type": "code",
   "execution_count": 36,
   "id": "df983b16",
   "metadata": {},
   "outputs": [
    {
     "name": "stdout",
     "output_type": "stream",
     "text": [
      "File is updated\n",
      "this task is completed\n"
     ]
    }
   ],
   "source": [
    "try:\n",
    "    f = open('abc.txt','w')\n",
    "    f.write(\"ok\")\n",
    "    print(\"File is updated\")\n",
    "except Exception as e:\n",
    "    print(e)\n",
    "finally:\n",
    "    print(\"this task is completed\")"
   ]
  },
  {
   "cell_type": "code",
   "execution_count": 2,
   "id": "6324cc58",
   "metadata": {},
   "outputs": [
    {
     "name": "stdout",
     "output_type": "stream",
     "text": [
      "I/O operation on closed file.\n",
      "this task is completed\n"
     ]
    }
   ],
   "source": [
    "try:\n",
    "#     f = open('abc.txt','w')\n",
    "    f.write(\"ok\")\n",
    "    print(\"File is updated\")\n",
    "except Exception as e:\n",
    "    print(e)\n",
    "finally:\n",
    "    print(\"this task is completed\")"
   ]
  },
  {
   "cell_type": "code",
   "execution_count": 3,
   "id": "a10bf6b3",
   "metadata": {},
   "outputs": [
    {
     "name": "stdout",
     "output_type": "stream",
     "text": [
      "Enter your age:15.5\n",
      "please enter valid age\n"
     ]
    }
   ],
   "source": [
    "try:\n",
    "    num = int(input(\"Enter your age:\"))\n",
    "    print(\"this age is :\",num)\n",
    "except:\n",
    "    print(\"please enter valid age\")"
   ]
  },
  {
   "cell_type": "code",
   "execution_count": 9,
   "id": "a69cb1fb",
   "metadata": {},
   "outputs": [
    {
     "name": "stdout",
     "output_type": "stream",
     "text": [
      "this is wrong\n"
     ]
    }
   ],
   "source": [
    "a = 10\n",
    "b = 0\n",
    "try:\n",
    "    print(a/b)\n",
    "    try:\n",
    "        f = open('abc.txt','w')\n",
    "        f.write(\"ok\")\n",
    "        print(\"File is updated\")\n",
    "    except:\n",
    "        print(\"this is also wrong\")\n",
    "except:\n",
    "    print(\"this is wrong\")"
   ]
  },
  {
   "cell_type": "code",
   "execution_count": 1,
   "id": "a5203a3d",
   "metadata": {},
   "outputs": [
    {
     "name": "stdout",
     "output_type": "stream",
     "text": [
      "Enter your age:13\n",
      "this age is: 13\n",
      "the code is complete\n"
     ]
    }
   ],
   "source": [
    "try:\n",
    "    num = int(input(\"Enter your age:\"))\n",
    "    print(\"this age is:\",num)\n",
    "except:\n",
    "    print(\"Please enter valid age\")\n",
    "finally:\n",
    "    print(\"the code is complete\")"
   ]
  },
  {
   "cell_type": "markdown",
   "id": "76d40c19",
   "metadata": {},
   "source": [
    "# pass: whenever your wrong or right I dont care I will pass.\n",
    "# Break: if you are right then I will break."
   ]
  },
  {
   "cell_type": "code",
   "execution_count": 2,
   "id": "cab8b9dd",
   "metadata": {},
   "outputs": [
    {
     "name": "stdout",
     "output_type": "stream",
     "text": [
      "Enter your age:gfgf\n",
      "please enter valid age(in numbers)\n",
      "Enter your age:ghrd\n",
      "2 attempts failed\n",
      "the code is complete\n"
     ]
    }
   ],
   "source": [
    "try:\n",
    "    num = int(input(\"Enter your age:\"))\n",
    "    print(\"the age is:\",num)\n",
    "except:\n",
    "    print(\"please enter valid age(in numbers)\")\n",
    "    try:\n",
    "        num = int(input(\"Enter your age:\"))\n",
    "        print(\"the age is:\",num)\n",
    "    except:\n",
    "        print(\"2 attempts failed\")\n",
    "finally:\n",
    "    print(\"the code is complete\")"
   ]
  },
  {
   "cell_type": "code",
   "execution_count": 3,
   "id": "cc1dae4f",
   "metadata": {},
   "outputs": [
    {
     "name": "stdout",
     "output_type": "stream",
     "text": [
      "Enter your age:fff\n",
      "please enter valid age(in number)\n",
      "the code is complete\n"
     ]
    }
   ],
   "source": [
    "try:\n",
    "    num = int(input(\"Enter your age:\"))\n",
    "    print(\"the age is:\",num)\n",
    "except:\n",
    "    print(\"please enter valid age(in number)\")\n",
    "finally:\n",
    "    print(\"the code is complete\")"
   ]
  },
  {
   "cell_type": "code",
   "execution_count": null,
   "id": "c311307f",
   "metadata": {},
   "outputs": [],
   "source": [
    "for i in range()"
   ]
  },
  {
   "cell_type": "markdown",
   "id": "f45a12cb",
   "metadata": {},
   "source": [
    "# pass,continue or break\n",
    "this loop should continue till the time customer enters correct age."
   ]
  },
  {
   "cell_type": "code",
   "execution_count": 4,
   "id": "e024d1bc",
   "metadata": {},
   "outputs": [
    {
     "name": "stdout",
     "output_type": "stream",
     "text": [
      "Enter your age:dd\n",
      "please enter valid age (in numbers)\n",
      "Enter your age:fgfd\n",
      "please enter valid age (in numbers)\n",
      "Enter your age:fstr\n",
      "please enter valid age (in numbers)\n",
      "Enter your age:bytr\n",
      "please enter valid age (in numbers)\n",
      "Enter your age:12\n",
      "the age is: 12\n"
     ]
    }
   ],
   "source": [
    "while True:\n",
    "    try:\n",
    "        num = int(input(\"Enter your age:\"))\n",
    "        print(\"the age is:\",num)\n",
    "        break\n",
    "    except:\n",
    "        print(\"please enter valid age (in numbers)\")\n",
    "        continue\n",
    "#     finally:\n",
    "#         print(\"the code is complete\")"
   ]
  },
  {
   "cell_type": "code",
   "execution_count": 5,
   "id": "cb644870",
   "metadata": {},
   "outputs": [
    {
     "name": "stdout",
     "output_type": "stream",
     "text": [
      "<class 'str'>\n"
     ]
    }
   ],
   "source": [
    "s = \"datascience\"\n",
    "try:\n",
    "    print(type(s))\n",
    "except Exception as e:\n",
    "    print(e)"
   ]
  },
  {
   "cell_type": "code",
   "execution_count": 6,
   "id": "acce91ce",
   "metadata": {},
   "outputs": [
    {
     "name": "stdout",
     "output_type": "stream",
     "text": [
      "name 'randint' is not defined\n"
     ]
    }
   ],
   "source": [
    "try:\n",
    "    print(randint(1,10))\n",
    "except Exception as e:\n",
    "    print(e)"
   ]
  },
  {
   "cell_type": "code",
   "execution_count": 8,
   "id": "affe3c12",
   "metadata": {},
   "outputs": [
    {
     "name": "stdout",
     "output_type": "stream",
     "text": [
      "name 'randint' is not defined\n"
     ]
    }
   ],
   "source": [
    "def ran_int(a,b):\n",
    "    try:\n",
    "        print(randint(a,b))\n",
    "    except Exception as e:\n",
    "        print(e)\n",
    "ran_int(10,1)"
   ]
  },
  {
   "cell_type": "code",
   "execution_count": 9,
   "id": "1a4cc086",
   "metadata": {},
   "outputs": [],
   "source": [
    "sss = \"    ghsd   \""
   ]
  },
  {
   "cell_type": "code",
   "execution_count": 10,
   "id": "a2696b85",
   "metadata": {},
   "outputs": [
    {
     "name": "stdout",
     "output_type": "stream",
     "text": [
      "ghsd\n"
     ]
    }
   ],
   "source": [
    "def strips(var):\n",
    "    a = var.strip()\n",
    "    print(a)\n",
    "strips(sss)"
   ]
  },
  {
   "cell_type": "code",
   "execution_count": null,
   "id": "0f3a364d",
   "metadata": {},
   "outputs": [],
   "source": []
  }
 ],
 "metadata": {
  "kernelspec": {
   "display_name": "Python 3 (ipykernel)",
   "language": "python",
   "name": "python3"
  },
  "language_info": {
   "codemirror_mode": {
    "name": "ipython",
    "version": 3
   },
   "file_extension": ".py",
   "mimetype": "text/x-python",
   "name": "python",
   "nbconvert_exporter": "python",
   "pygments_lexer": "ipython3",
   "version": "3.9.12"
  }
 },
 "nbformat": 4,
 "nbformat_minor": 5
}
