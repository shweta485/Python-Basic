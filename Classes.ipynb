{
 "cells": [
  {
   "cell_type": "code",
   "execution_count": 1,
   "id": "6c3541cc",
   "metadata": {},
   "outputs": [],
   "source": [
    "class Rectangle:\n",
    "    def __init__(self,length,width):\n",
    "        self.length = length\n",
    "        self.width = width\n",
    "    def output(self):\n",
    "        print(\"length of Rect is:\",self.length)\n",
    "        print(\"width of Rect is:\",self.width)"
   ]
  },
  {
   "cell_type": "code",
   "execution_count": 2,
   "id": "819d8f57",
   "metadata": {},
   "outputs": [],
   "source": [
    "r = Rectangle(20,25)"
   ]
  },
  {
   "cell_type": "code",
   "execution_count": 3,
   "id": "49565ba5",
   "metadata": {},
   "outputs": [
    {
     "name": "stdout",
     "output_type": "stream",
     "text": [
      "length of Rect is: 20\n",
      "width of Rect is: 25\n"
     ]
    }
   ],
   "source": [
    "r.output()"
   ]
  },
  {
   "cell_type": "code",
   "execution_count": 4,
   "id": "27bc755b",
   "metadata": {},
   "outputs": [],
   "source": [
    "class Rectangle:\n",
    "    def __init__(self,length = 10,width = 15):\n",
    "        self.length = length\n",
    "        self.width = width\n",
    "    def output(self):\n",
    "        print(\"length of Rect is:\",self.length)\n",
    "        print(\"width of Rect is:\",self.width)"
   ]
  },
  {
   "cell_type": "code",
   "execution_count": 5,
   "id": "1988979e",
   "metadata": {},
   "outputs": [],
   "source": [
    "r = Rectangle(47,49)"
   ]
  },
  {
   "cell_type": "code",
   "execution_count": 6,
   "id": "bda67f58",
   "metadata": {},
   "outputs": [
    {
     "name": "stdout",
     "output_type": "stream",
     "text": [
      "length of Rect is: 47\n",
      "width of Rect is: 49\n"
     ]
    }
   ],
   "source": [
    "r.output()"
   ]
  },
  {
   "cell_type": "code",
   "execution_count": 7,
   "id": "96857e8a",
   "metadata": {},
   "outputs": [],
   "source": [
    "class Rectangle:\n",
    "    def __init__(self,length = 10,width = 15):\n",
    "        self.length = length\n",
    "        self.width = width\n",
    "    def output(self):\n",
    "        print(\"length of Rect is:\",self.length)\n",
    "        print(\"width of Rect is:\",self.width)\n",
    "    def area(self):\n",
    "        print(\"area of Rect is:\",self.length*self.width)"
   ]
  },
  {
   "cell_type": "code",
   "execution_count": 8,
   "id": "6e578392",
   "metadata": {},
   "outputs": [],
   "source": [
    "r = Rectangle(47,49)"
   ]
  },
  {
   "cell_type": "code",
   "execution_count": 9,
   "id": "3565f5de",
   "metadata": {},
   "outputs": [
    {
     "name": "stdout",
     "output_type": "stream",
     "text": [
      "length of Rect is: 47\n",
      "width of Rect is: 49\n"
     ]
    }
   ],
   "source": [
    "r.output()"
   ]
  },
  {
   "cell_type": "markdown",
   "id": "1be526d4",
   "metadata": {},
   "source": [
    "# object and classes"
   ]
  },
  {
   "cell_type": "code",
   "execution_count": 10,
   "id": "24ff7f4b",
   "metadata": {},
   "outputs": [],
   "source": [
    "# polymorphism\n",
    "# Inheritance\n",
    "# Encapsulation\n",
    "# Abstaction"
   ]
  },
  {
   "cell_type": "markdown",
   "id": "0de1a62b",
   "metadata": {},
   "source": [
    "# polymorphism"
   ]
  },
  {
   "cell_type": "code",
   "execution_count": 11,
   "id": "b332b9bd",
   "metadata": {},
   "outputs": [],
   "source": [
    "# same function with different meaning."
   ]
  },
  {
   "cell_type": "code",
   "execution_count": 12,
   "id": "326be396",
   "metadata": {},
   "outputs": [],
   "source": [
    "class Cat:\n",
    "    def __init__(self,name):\n",
    "        self.name = name\n",
    "    def display(self):\n",
    "        print(\"Name of the cat is:\",self.name)\n",
    "c = Cat(\"chitti\")"
   ]
  },
  {
   "cell_type": "code",
   "execution_count": 13,
   "id": "bf9e180a",
   "metadata": {},
   "outputs": [
    {
     "name": "stdout",
     "output_type": "stream",
     "text": [
      "Name of the cat is: chitti\n"
     ]
    }
   ],
   "source": [
    "c.display()"
   ]
  },
  {
   "cell_type": "code",
   "execution_count": 14,
   "id": "3c6dd10f",
   "metadata": {},
   "outputs": [],
   "source": [
    "class Dog:\n",
    "    def __init__(self,name):\n",
    "        self.name = name\n",
    "    def display(self):\n",
    "        print(\"Name of the dog is:\",self.name)\n",
    "d = Dog(\"charlie\")"
   ]
  },
  {
   "cell_type": "code",
   "execution_count": 15,
   "id": "26c0fdfd",
   "metadata": {},
   "outputs": [
    {
     "name": "stdout",
     "output_type": "stream",
     "text": [
      "Name of the dog is: charlie\n"
     ]
    }
   ],
   "source": [
    "d.display()"
   ]
  },
  {
   "cell_type": "code",
   "execution_count": 17,
   "id": "7f71e175",
   "metadata": {},
   "outputs": [],
   "source": [
    "def abc(a):\n",
    "    a.display()"
   ]
  },
  {
   "cell_type": "code",
   "execution_count": 19,
   "id": "632c2856",
   "metadata": {},
   "outputs": [
    {
     "name": "stdout",
     "output_type": "stream",
     "text": [
      "Name of the cat is: chitti\n"
     ]
    }
   ],
   "source": [
    "abc(c)"
   ]
  },
  {
   "cell_type": "code",
   "execution_count": 20,
   "id": "71e6999f",
   "metadata": {},
   "outputs": [
    {
     "name": "stdout",
     "output_type": "stream",
     "text": [
      "Name of the dog is: charlie\n"
     ]
    }
   ],
   "source": [
    "abc(d)"
   ]
  },
  {
   "cell_type": "code",
   "execution_count": 21,
   "id": "3d33ceec",
   "metadata": {},
   "outputs": [
    {
     "data": {
      "text/plain": [
       "int"
      ]
     },
     "execution_count": 21,
     "metadata": {},
     "output_type": "execute_result"
    }
   ],
   "source": [
    "type(445)"
   ]
  },
  {
   "cell_type": "markdown",
   "id": "d32b5bf0",
   "metadata": {},
   "source": [
    "# Inheritance"
   ]
  },
  {
   "cell_type": "raw",
   "id": "47902e88",
   "metadata": {},
   "source": [
    "single\n",
    "muitiple\n",
    "multilevel\n",
    "hiretical\n",
    "hybrid"
   ]
  },
  {
   "cell_type": "code",
   "execution_count": null,
   "id": "5a1c95e4",
   "metadata": {},
   "outputs": [],
   "source": [
    "# Single"
   ]
  },
  {
   "cell_type": "code",
   "execution_count": 23,
   "id": "32bad641",
   "metadata": {},
   "outputs": [],
   "source": [
    "class Employee:\n",
    "    def __init__(self,name,age):\n",
    "        self.name = name\n",
    "        self.age = age\n",
    "    def info(self):\n",
    "        print(\"Employee name is:\",self.name)\n",
    "        print(\"Employee age is:\",self.age)\n",
    "e = Employee(\"Sahil\",25)"
   ]
  },
  {
   "cell_type": "code",
   "execution_count": 24,
   "id": "59078770",
   "metadata": {},
   "outputs": [
    {
     "name": "stdout",
     "output_type": "stream",
     "text": [
      "Employee name is: Sahil\n",
      "Employee age is: 25\n"
     ]
    }
   ],
   "source": [
    "e.info()"
   ]
  },
  {
   "cell_type": "code",
   "execution_count": 25,
   "id": "80657ccd",
   "metadata": {},
   "outputs": [],
   "source": [
    "class Trainer(Employee):\n",
    "    def __init__(self,name,age,role):\n",
    "        Employee. __init__(self,name,age)\n",
    "        self.role = role\n",
    "    def info(self):\n",
    "        Employee.info(self)\n",
    "        print(\"Role for this Employee is:\",self.role)\n",
    "t = Trainer(\"Sahil\",25,\"Trainer\")"
   ]
  },
  {
   "cell_type": "code",
   "execution_count": 26,
   "id": "63cd7f8d",
   "metadata": {},
   "outputs": [
    {
     "name": "stdout",
     "output_type": "stream",
     "text": [
      "Employee name is: Sahil\n",
      "Employee age is: 25\n",
      "Role for this Employee is: Trainer\n"
     ]
    }
   ],
   "source": [
    "t.info()"
   ]
  },
  {
   "cell_type": "code",
   "execution_count": 28,
   "id": "a2a15d6e",
   "metadata": {},
   "outputs": [],
   "source": [
    "# Multilevel"
   ]
  },
  {
   "cell_type": "code",
   "execution_count": 30,
   "id": "77bddb8f",
   "metadata": {},
   "outputs": [],
   "source": [
    "class Manager(Trainer):\n",
    "    def __init__(self,name,age,role,salary):\n",
    "        Trainer. __init__(self,name,age,role)\n",
    "        self.salary = salary\n",
    "    def info(self):\n",
    "        Trainer.info(self)\n",
    "        print(\"Salary of \",self.name,\" is:\",self.salary)\n",
    "m = Manager(\"Sahil\",25,\"Trainer\",500000)"
   ]
  },
  {
   "cell_type": "code",
   "execution_count": 31,
   "id": "fd86fe2d",
   "metadata": {},
   "outputs": [
    {
     "name": "stdout",
     "output_type": "stream",
     "text": [
      "Employee name is: Sahil\n",
      "Employee age is: 25\n",
      "Role for this Employee is: Trainer\n",
      "Salary of  Sahil  is: 500000\n"
     ]
    }
   ],
   "source": [
    "m.info()"
   ]
  },
  {
   "cell_type": "code",
   "execution_count": 32,
   "id": "c06ff05e",
   "metadata": {},
   "outputs": [],
   "source": [
    "# Multiple"
   ]
  },
  {
   "cell_type": "code",
   "execution_count": 33,
   "id": "ef9da27d",
   "metadata": {},
   "outputs": [],
   "source": [
    "class Father:\n",
    "    def __init__(self,eyes,hair):\n",
    "        self.eyes = eyes\n",
    "        self.hair = hair\n",
    "    def info(self):\n",
    "        print(\"Eyes of Father is:\",self.eyes)\n",
    "        print(\"Hairstyle of Father is:\",self.hair)\n",
    "f = Father(\"Brown\",\"Curly\")"
   ]
  },
  {
   "cell_type": "code",
   "execution_count": 34,
   "id": "dd6190a6",
   "metadata": {},
   "outputs": [
    {
     "name": "stdout",
     "output_type": "stream",
     "text": [
      "Eyes of Father is: Brown\n",
      "Hairstyle of Father is: Curly\n"
     ]
    }
   ],
   "source": [
    "f.info()"
   ]
  },
  {
   "cell_type": "code",
   "execution_count": 36,
   "id": "e45a50ff",
   "metadata": {},
   "outputs": [],
   "source": [
    "class Mother:\n",
    "    def __init__(self,height):\n",
    "        self.height = height\n",
    "    def info(self):\n",
    "        print(\"Height of Mother is:\",self.height)\n",
    "        \n",
    "m = Mother(165)"
   ]
  },
  {
   "cell_type": "code",
   "execution_count": 37,
   "id": "c5707e73",
   "metadata": {},
   "outputs": [
    {
     "name": "stdout",
     "output_type": "stream",
     "text": [
      "Height of Mother is: 165\n"
     ]
    }
   ],
   "source": [
    "m.info()"
   ]
  },
  {
   "cell_type": "code",
   "execution_count": 43,
   "id": "51ac9ab3",
   "metadata": {},
   "outputs": [],
   "source": [
    "class Son:\n",
    "    def __init__(self,eyes,hair,height,IQ):\n",
    "        Father. __init__(self,eyes,hair)\n",
    "        Mother. __init__(self,height)\n",
    "        self.IQ = IQ\n",
    "    def info(self):\n",
    "        Father.info(self)\n",
    "        Mother.info(self)\n",
    "        print(\"IQ level of Son is:\",self.IQ)\n",
    "s = Son(\"Brown\",\"Curly\",165,200)"
   ]
  },
  {
   "cell_type": "code",
   "execution_count": 44,
   "id": "1e9d5272",
   "metadata": {},
   "outputs": [
    {
     "name": "stdout",
     "output_type": "stream",
     "text": [
      "Eyes of Father is: Brown\n",
      "Hairstyle of Father is: Curly\n",
      "Height of Mother is: 165\n",
      "IQ level of Son is: 200\n"
     ]
    }
   ],
   "source": [
    "s.info()"
   ]
  },
  {
   "cell_type": "code",
   "execution_count": 45,
   "id": "79d4aaf2",
   "metadata": {},
   "outputs": [],
   "source": [
    "# Hiretical "
   ]
  },
  {
   "cell_type": "code",
   "execution_count": null,
   "id": "7332a4c9",
   "metadata": {},
   "outputs": [],
   "source": []
  }
 ],
 "metadata": {
  "kernelspec": {
   "display_name": "Python 3 (ipykernel)",
   "language": "python",
   "name": "python3"
  },
  "language_info": {
   "codemirror_mode": {
    "name": "ipython",
    "version": 3
   },
   "file_extension": ".py",
   "mimetype": "text/x-python",
   "name": "python",
   "nbconvert_exporter": "python",
   "pygments_lexer": "ipython3",
   "version": "3.9.12"
  }
 },
 "nbformat": 4,
 "nbformat_minor": 5
}
